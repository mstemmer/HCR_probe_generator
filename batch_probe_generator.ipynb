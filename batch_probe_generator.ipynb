{
 "cells": [
  {
   "cell_type": "markdown",
   "metadata": {},
   "source": [
    "# This code creates HCR probe pairs from targets, listed in corresponding .csv file (in_file)"
   ]
  },
  {
   "cell_type": "markdown",
   "metadata": {},
   "source": [
    "If python environment is not available, create it with this command and select it (kernel):\n",
    "```\n",
    "conda create -n hcr_probe_generator -c bioconda biopython numpy=1.23.5 pandas=1.3.5 blast\n",
    "```"
   ]
  },
  {
   "cell_type": "code",
   "execution_count": 1,
   "metadata": {},
   "outputs": [],
   "source": [
    "# import modules\n",
    "from maker37cb_mod import maker\n",
    "import os\n",
    "import pandas as pd\n",
    "from contextlib import redirect_stdout"
   ]
  },
  {
   "cell_type": "markdown",
   "metadata": {},
   "source": [
    "Define path and filename if input .csv file:"
   ]
  },
  {
   "cell_type": "code",
   "execution_count": 2,
   "metadata": {},
   "outputs": [],
   "source": [
    "input_csv = \"20241118_HCR_probes_Martina.csv\"\n",
    "in_path = \"/home/mstemmer/repos/HCR_probe_generator/targets/\""
   ]
  },
  {
   "cell_type": "markdown",
   "metadata": {},
   "source": [
    "Define path of output files:"
   ]
  },
  {
   "cell_type": "code",
   "execution_count": 3,
   "metadata": {},
   "outputs": [],
   "source": [
    "outpath = \"/home/mstemmer/repos/HCR_probe_generator/generated_probes/\""
   ]
  },
  {
   "cell_type": "code",
   "execution_count": 7,
   "metadata": {},
   "outputs": [
    {
     "data": {
      "text/html": [
       "<div>\n",
       "<style scoped>\n",
       "    .dataframe tbody tr th:only-of-type {\n",
       "        vertical-align: middle;\n",
       "    }\n",
       "\n",
       "    .dataframe tbody tr th {\n",
       "        vertical-align: top;\n",
       "    }\n",
       "\n",
       "    .dataframe thead th {\n",
       "        text-align: right;\n",
       "    }\n",
       "</style>\n",
       "<table border=\"1\" class=\"dataframe\">\n",
       "  <thead>\n",
       "    <tr style=\"text-align: right;\">\n",
       "      <th></th>\n",
       "      <th>short</th>\n",
       "      <th>gene_name</th>\n",
       "      <th>amplifier</th>\n",
       "      <th>reference</th>\n",
       "      <th>sequence</th>\n",
       "    </tr>\n",
       "  </thead>\n",
       "  <tbody>\n",
       "    <tr>\n",
       "      <th>0</th>\n",
       "      <td>gg</td>\n",
       "      <td>cdh1</td>\n",
       "      <td>B1</td>\n",
       "      <td>Gallus_gallus.bGalGal1.mat.broiler.GRCg7b.cdna...</td>\n",
       "      <td>AGCTGAGCCGTGGTGCGGGGCCGGGTGCTGAGCACGGTGTGCTCGC...</td>\n",
       "    </tr>\n",
       "    <tr>\n",
       "      <th>1</th>\n",
       "      <td>gg</td>\n",
       "      <td>lgr5-203</td>\n",
       "      <td>B2</td>\n",
       "      <td>Gallus_gallus.bGalGal1.mat.broiler.GRCg7b.cdna...</td>\n",
       "      <td>GACGCGGGCAGGGCCGCCGCGCTACGGCGGGCAAGGCTGGGGCGGC...</td>\n",
       "    </tr>\n",
       "    <tr>\n",
       "      <th>2</th>\n",
       "      <td>gg</td>\n",
       "      <td>si</td>\n",
       "      <td>B3</td>\n",
       "      <td>Gallus_gallus.bGalGal1.mat.broiler.GRCg7b.cdna...</td>\n",
       "      <td>ATGGGCAAGAGGAAGTTCAGTGGCCTGGAAATCACTCTCATTGTCC...</td>\n",
       "    </tr>\n",
       "    <tr>\n",
       "      <th>3</th>\n",
       "      <td>gg</td>\n",
       "      <td>tff3</td>\n",
       "      <td>B4</td>\n",
       "      <td>Gallus_gallus.bGalGal1.mat.broiler.GRCg7b.cdna...</td>\n",
       "      <td>ATATAAAACAGGCTGCTTGAGGCAAAGCAGCACCTCTCCTCCACCT...</td>\n",
       "    </tr>\n",
       "    <tr>\n",
       "      <th>4</th>\n",
       "      <td>gg</td>\n",
       "      <td>vil1-203</td>\n",
       "      <td>B5</td>\n",
       "      <td>Gallus_gallus.bGalGal1.mat.broiler.GRCg7b.cdna...</td>\n",
       "      <td>AAAGTGGGTGGCTACAGGTAGGATCCGCCCCATGCCGGCAGCCCCA...</td>\n",
       "    </tr>\n",
       "  </tbody>\n",
       "</table>\n",
       "</div>"
      ],
      "text/plain": [
       "  short gene_name amplifier                                          reference                                           sequence\n",
       "0    gg      cdh1        B1  Gallus_gallus.bGalGal1.mat.broiler.GRCg7b.cdna...  AGCTGAGCCGTGGTGCGGGGCCGGGTGCTGAGCACGGTGTGCTCGC...\n",
       "1    gg  lgr5-203        B2  Gallus_gallus.bGalGal1.mat.broiler.GRCg7b.cdna...  GACGCGGGCAGGGCCGCCGCGCTACGGCGGGCAAGGCTGGGGCGGC...\n",
       "2    gg        si        B3  Gallus_gallus.bGalGal1.mat.broiler.GRCg7b.cdna...  ATGGGCAAGAGGAAGTTCAGTGGCCTGGAAATCACTCTCATTGTCC...\n",
       "3    gg      tff3        B4  Gallus_gallus.bGalGal1.mat.broiler.GRCg7b.cdna...  ATATAAAACAGGCTGCTTGAGGCAAAGCAGCACCTCTCCTCCACCT...\n",
       "4    gg  vil1-203        B5  Gallus_gallus.bGalGal1.mat.broiler.GRCg7b.cdna...  AAAGTGGGTGGCTACAGGTAGGATCCGCCCCATGCCGGCAGCCCCA..."
      ]
     },
     "execution_count": 7,
     "metadata": {},
     "output_type": "execute_result"
    }
   ],
   "source": [
    "# show input csv file with relevant columns\n",
    "in_file = os.path.join(f'{in_path}{input_csv}')\n",
    "input_df = pd.read_csv(in_file)\n",
    "input_df = input_df[['short','gene_name','amplifier','reference','sequence']]\n",
    "input_df"
   ]
  },
  {
   "cell_type": "markdown",
   "metadata": {},
   "source": [
    "Run HCR probe generator over all rows in input_csv file:"
   ]
  },
  {
   "cell_type": "code",
   "execution_count": 15,
   "metadata": {},
   "outputs": [
    {
     "name": "stdout",
     "output_type": "stream",
     "text": [
      "Working on gg_cdh1 ...\n",
      "Working on gg_lgr5-203 ...\n",
      "Working on gg_si ...\n",
      "Working on gg_tff3 ...\n",
      "Working on gg_vil1-203 ...\n"
     ]
    }
   ],
   "source": [
    "for index, row in input_df.iterrows():\n",
    "    print(f'Working on {row[\"short\"]}_{row[\"gene_name\"]} ...')\n",
    "    outfile = os.path.join(f\"{outpath}{row['short']}_{row['gene_name']}_probes.csv\")\n",
    "    \n",
    "    with open(os.path.join(f\"{outpath}{row['short']}_{row['gene_name']}_out.txt\"), 'w') as f:\n",
    "        with redirect_stdout(f):\n",
    "            try:\n",
    "                pause = 12\n",
    "                polyAT = 5\n",
    "                polyCG = 5\n",
    "                choose = \"n\"\n",
    "                BlastProbes = \"y\"\n",
    "                dropout = \"y\"\n",
    "                show = \"y\"\n",
    "                report = \"y\"\n",
    "                maxprobe = \"y\"\n",
    "                numbr = 0\n",
    "                db = f\"/home/mstemmer/repos/HCR_probe_generator/references/{row['reference']}.fa\"\n",
    "                maker(row['gene_name'],row['sequence'],row['amplifier'],pause,choose,polyAT,polyCG,BlastProbes,db,dropout,show,report,maxprobe,numbr,outfile)\n",
    "            except IndexError:\n",
    "                print(f\"Max probes could not be reached for {row['gene_name']}\")\n",
    "                print(f\"Trying again without max setting...\")\n",
    "                maxprobe=\"n\"\n",
    "                maker(row['gene_name'],row['sequence'],row['amplifier'],pause,choose,polyAT,polyCG,BlastProbes,db,dropout,show,report,maxprobe,numbr,outfile)\n",
    "                continue"
   ]
  }
 ],
 "metadata": {
  "kernelspec": {
   "display_name": "hcr_probe",
   "language": "python",
   "name": "python3"
  },
  "language_info": {
   "codemirror_mode": {
    "name": "ipython",
    "version": 3
   },
   "file_extension": ".py",
   "mimetype": "text/x-python",
   "name": "python",
   "nbconvert_exporter": "python",
   "pygments_lexer": "ipython3",
   "version": "3.9.20"
  }
 },
 "nbformat": 4,
 "nbformat_minor": 2
}
