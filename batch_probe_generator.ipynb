{
 "cells": [
  {
   "cell_type": "markdown",
   "metadata": {},
   "source": [
    "# This code creates HCR probe pairs from targets, listed in corresponding .csv file (in_file)"
   ]
  },
  {
   "cell_type": "markdown",
   "metadata": {},
   "source": [
    "If python environment is not available, create it with this command and select it (kernel):\n",
    "```\n",
    "conda create -n hcr_probe_generator -c bioconda biopython numpy=1.23.5 pandas=1.3.5 blast\n",
    "```"
   ]
  },
  {
   "cell_type": "code",
   "execution_count": 1,
   "metadata": {},
   "outputs": [],
   "source": [
    "# import modules\n",
    "from maker37cb_mod import maker\n",
    "import os\n",
    "import pandas as pd\n",
    "from contextlib import redirect_stdout"
   ]
  },
  {
   "cell_type": "markdown",
   "metadata": {},
   "source": [
    "Define basic variables/settings. See UserInterface for more details or ignore :-)"
   ]
  },
  {
   "cell_type": "code",
   "execution_count": null,
   "metadata": {},
   "outputs": [],
   "source": [
    "pause = 12\n",
    "polyAT = 5\n",
    "polyCG = 5\n",
    "choose = \"n\"\n",
    "BlastProbes = \"y\"\n",
    "dropout = \"y\"\n",
    "show = \"y\"\n",
    "report = \"y\"\n",
    "maxprobe = \"y\"\n",
    "numbr = 0"
   ]
  },
  {
   "cell_type": "markdown",
   "metadata": {},
   "source": [
    "Define path and filename if input .csv file:"
   ]
  },
  {
   "cell_type": "code",
   "execution_count": 5,
   "metadata": {},
   "outputs": [],
   "source": [
    "in_path = \"/home/mstemmer/repos/HCR_probe_generator/\"\n",
    "input_csv = \"input.csv\""
   ]
  },
  {
   "cell_type": "markdown",
   "metadata": {},
   "source": [
    "Define path of output files:"
   ]
  },
  {
   "cell_type": "code",
   "execution_count": null,
   "metadata": {},
   "outputs": [],
   "source": [
    "outpath = \"/home/mstemmer/repos/HCR_probe_generator/\""
   ]
  },
  {
   "cell_type": "code",
   "execution_count": null,
   "metadata": {},
   "outputs": [
    {
     "data": {
      "text/html": [
       "<div>\n",
       "<style scoped>\n",
       "    .dataframe tbody tr th:only-of-type {\n",
       "        vertical-align: middle;\n",
       "    }\n",
       "\n",
       "    .dataframe tbody tr th {\n",
       "        vertical-align: top;\n",
       "    }\n",
       "\n",
       "    .dataframe thead th {\n",
       "        text-align: right;\n",
       "    }\n",
       "</style>\n",
       "<table border=\"1\" class=\"dataframe\">\n",
       "  <thead>\n",
       "    <tr style=\"text-align: right;\">\n",
       "      <th></th>\n",
       "      <th>name</th>\n",
       "      <th>amplifier</th>\n",
       "      <th>sequence</th>\n",
       "      <th>reference</th>\n",
       "    </tr>\n",
       "  </thead>\n",
       "  <tbody>\n",
       "    <tr>\n",
       "      <th>0</th>\n",
       "      <td>dr_myo6b</td>\n",
       "      <td>B1</td>\n",
       "      <td>GTGCAATGGATGATGGGAAGCCTGTGTGGGCGCCCCACCCAACCGA...</td>\n",
       "      <td>Danio_rerio.GRCz11.cdna.all.fa</td>\n",
       "    </tr>\n",
       "    <tr>\n",
       "      <th>1</th>\n",
       "      <td>dr_test</td>\n",
       "      <td>B2</td>\n",
       "      <td>GTGCAATGGATGATGGGAAGCCTGTGTGGGCGCCCCACCCAACCGA...</td>\n",
       "      <td>Danio_rerio.GRCz11.cdna.all.fa</td>\n",
       "    </tr>\n",
       "  </tbody>\n",
       "</table>\n",
       "</div>"
      ],
      "text/plain": [
       "       name amplifier                                           sequence  \\\n",
       "0  dr_myo6b        B1  GTGCAATGGATGATGGGAAGCCTGTGTGGGCGCCCCACCCAACCGA...   \n",
       "1   dr_test        B2  GTGCAATGGATGATGGGAAGCCTGTGTGGGCGCCCCACCCAACCGA...   \n",
       "\n",
       "                        reference  \n",
       "0  Danio_rerio.GRCz11.cdna.all.fa  \n",
       "1  Danio_rerio.GRCz11.cdna.all.fa  "
      ]
     },
     "execution_count": 6,
     "metadata": {},
     "output_type": "execute_result"
    }
   ],
   "source": [
    "# show input csv file with relevant columns\n",
    "in_file = os.path.join(f'{in_path}{input_csv}')\n",
    "input_df = pd.read_csv(in_file)\n",
    "input_df"
   ]
  },
  {
   "cell_type": "markdown",
   "metadata": {},
   "source": [
    "Run HCR probe generator over all rows in input_csv file:"
   ]
  },
  {
   "cell_type": "code",
   "execution_count": null,
   "metadata": {},
   "outputs": [],
   "source": [
    "\n",
    "\n",
    "\n",
    "db = \"/home/mstemmer/repos/insitu_probe_generator/Danio_rerio.GRCz11.cdna.all.fa\"\n",
    "\n",
    "for index, row in input_df.iterrows():\n",
    "    print(f'Working on {row[\"name\"]} ...')\n",
    "    outfile = os.path.join(f\"{outpath}{row['name']}_probes.csv\")\n",
    "    \n",
    "    with open(os.path.join(f\"{outpath}{row['name']}_out.txt\"), 'w') as f:\n",
    "        with redirect_stdout(f):\n",
    "            maker(row['name'],row['sequence'],row['amplifier'],pause,choose,polyAT,polyCG,BlastProbes,db,dropout,show,report,maxprobe,numbr,outfile)"
   ]
  }
 ],
 "metadata": {
  "kernelspec": {
   "display_name": "hcr_probe",
   "language": "python",
   "name": "python3"
  },
  "language_info": {
   "codemirror_mode": {
    "name": "ipython",
    "version": 3
   },
   "file_extension": ".py",
   "mimetype": "text/x-python",
   "name": "python",
   "nbconvert_exporter": "python",
   "pygments_lexer": "ipython3",
   "version": "3.9.20"
  }
 },
 "nbformat": 4,
 "nbformat_minor": 2
}
