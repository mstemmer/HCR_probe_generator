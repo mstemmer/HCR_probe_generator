{
 "cells": [
  {
   "cell_type": "markdown",
   "metadata": {},
   "source": [
    "# This code creates HCR probe pairs from targets, listed in corresponding .csv file"
   ]
  },
  {
   "cell_type": "markdown",
   "metadata": {},
   "source": [
    "If python environment is not available, create it with this command and select it (kernel):\n",
    "```\n",
    "conda create -n hcr_probe_generator -c bioconda biopython numpy=1.23.5 pandas=1.3.5 blast openpyxl\n",
    "```"
   ]
  },
  {
   "cell_type": "code",
   "execution_count": 1,
   "metadata": {},
   "outputs": [],
   "source": [
    "# import modules\n",
    "from maker37cb_mod import maker\n",
    "import os\n",
    "import pandas as pd\n",
    "from contextlib import redirect_stdout"
   ]
  },
  {
   "cell_type": "markdown",
   "metadata": {},
   "source": [
    "Define project name (name of your input csv file) and make sure file paths are correct:"
   ]
  },
  {
   "cell_type": "code",
   "execution_count": 2,
   "metadata": {},
   "outputs": [],
   "source": [
    "project_name = \"20250312_HCR_probes_Manuel\"\n",
    "\n",
    "in_path = \"/home/mstemmer/repos/HCR_probe_generator/targets/\"\n",
    "out_path = \"/home/mstemmer/repos/HCR_probe_generator/generated_probes/\"\n",
    "reference_path= \"/home/mstemmer/repos/HCR_probe_generator/references/\""
   ]
  },
  {
   "cell_type": "markdown",
   "metadata": {},
   "source": [
    "Place your input.csv file into the targets folder (same name as project) \\\n",
    "The reference file (into reference folder) should be an unpacked .fa file, specified also in the input .csv file. \\\n",
    "--> See example_input.csv file for required headers/columns! \n",
    "\n",
    "Required headers (all other columns will be ignored): \n",
    "```\n",
    "'short','gene_name','amplifier','reference','sequence'\n",
    "```\n",
    "'short': abbreviated species name (e.g. 'dr' for Danio rerio)"
   ]
  },
  {
   "cell_type": "markdown",
   "metadata": {},
   "source": [
    "Sort out file structures \\\n",
    "Check, if input file is correct!"
   ]
  },
  {
   "cell_type": "code",
   "execution_count": 3,
   "metadata": {},
   "outputs": [
    {
     "name": "stdout",
     "output_type": "stream",
     "text": [
      "You will find your HCR probes here: /home/mstemmer/repos/HCR_probe_generator/generated_probes/20250312_HCR_probes_Manuel\n",
      "\n",
      "All correct in the input csv file?\n"
     ]
    },
    {
     "data": {
      "text/html": [
       "<div>\n",
       "<style scoped>\n",
       "    .dataframe tbody tr th:only-of-type {\n",
       "        vertical-align: middle;\n",
       "    }\n",
       "\n",
       "    .dataframe tbody tr th {\n",
       "        vertical-align: top;\n",
       "    }\n",
       "\n",
       "    .dataframe thead th {\n",
       "        text-align: right;\n",
       "    }\n",
       "</style>\n",
       "<table border=\"1\" class=\"dataframe\">\n",
       "  <thead>\n",
       "    <tr style=\"text-align: right;\">\n",
       "      <th></th>\n",
       "      <th>short</th>\n",
       "      <th>gene_name</th>\n",
       "      <th>amplifier</th>\n",
       "      <th>reference</th>\n",
       "      <th>sequence</th>\n",
       "    </tr>\n",
       "  </thead>\n",
       "  <tbody>\n",
       "    <tr>\n",
       "      <th>0</th>\n",
       "      <td>dr</td>\n",
       "      <td>myo6b</td>\n",
       "      <td>B5</td>\n",
       "      <td>Danio_rerio.GRCz11.cdna.all.fa</td>\n",
       "      <td>GTGCAATGGATGATGGGAAGCCTGTGTGGGCGCCCCACCCAACCGA...</td>\n",
       "    </tr>\n",
       "    <tr>\n",
       "      <th>1</th>\n",
       "      <td>dr</td>\n",
       "      <td>her1</td>\n",
       "      <td>B1</td>\n",
       "      <td>Danio_rerio.GRCz11.cdna.all.fa</td>\n",
       "      <td>ATTTCTACAAGCAAGACAGATCAGCGGGAATACAACACTGAAGGTG...</td>\n",
       "    </tr>\n",
       "    <tr>\n",
       "      <th>2</th>\n",
       "      <td>dr</td>\n",
       "      <td>calm1b</td>\n",
       "      <td>B2</td>\n",
       "      <td>Danio_rerio.GRCz11.cdna.all.fa</td>\n",
       "      <td>TCAGGAAGTGCGCGGCGGATGAATACATGCGCGCTTCTTCTCATCG...</td>\n",
       "    </tr>\n",
       "    <tr>\n",
       "      <th>3</th>\n",
       "      <td>dr</td>\n",
       "      <td>tekt3</td>\n",
       "      <td>B3</td>\n",
       "      <td>Danio_rerio.GRCz11.cdna.all.fa</td>\n",
       "      <td>CTGCGCGCGAGCTTCATTACAGTGACAGACGAGATTCAAACACGTA...</td>\n",
       "    </tr>\n",
       "    <tr>\n",
       "      <th>4</th>\n",
       "      <td>dr</td>\n",
       "      <td>capgb</td>\n",
       "      <td>B4</td>\n",
       "      <td>Danio_rerio.GRCz11.cdna.all.fa</td>\n",
       "      <td>TTGATATATTTTCTTCTTGTTTAGGCACAGAAATTTTTCCTGCTGT...</td>\n",
       "    </tr>\n",
       "    <tr>\n",
       "      <th>5</th>\n",
       "      <td>dr</td>\n",
       "      <td>eya4</td>\n",
       "      <td>B1</td>\n",
       "      <td>Danio_rerio.GRCz11.cdna.all.fa</td>\n",
       "      <td>GTGCTCACGTTAACTTCAGGATCAGCAGTTAAAGCGGAAAACACGG...</td>\n",
       "    </tr>\n",
       "    <tr>\n",
       "      <th>6</th>\n",
       "      <td>dr</td>\n",
       "      <td>myo7aa</td>\n",
       "      <td>B2</td>\n",
       "      <td>Danio_rerio.GRCz11.cdna.all.fa</td>\n",
       "      <td>GGCTTTATGTCATGTTTATGTCACGTTAAACTCTGAGGTTAGAGAT...</td>\n",
       "    </tr>\n",
       "    <tr>\n",
       "      <th>7</th>\n",
       "      <td>dr</td>\n",
       "      <td>cacna1da</td>\n",
       "      <td>B3</td>\n",
       "      <td>Danio_rerio.GRCz11.cdna.all.fa</td>\n",
       "      <td>TCGGAGTTTTATCTCTGGATATAAGCCGAATCATCATCATCATCCT...</td>\n",
       "    </tr>\n",
       "    <tr>\n",
       "      <th>8</th>\n",
       "      <td>dr</td>\n",
       "      <td>sox2</td>\n",
       "      <td>B4</td>\n",
       "      <td>Danio_rerio.GRCz11.cdna.all.fa</td>\n",
       "      <td>CTCTGGCGAGGAGGGAAACCGAGTTTGTGTTGATTCTTCAAGACTA...</td>\n",
       "    </tr>\n",
       "    <tr>\n",
       "      <th>9</th>\n",
       "      <td>dr</td>\n",
       "      <td>sox8a</td>\n",
       "      <td>B1</td>\n",
       "      <td>Danio_rerio.GRCz11.cdna.all.fa</td>\n",
       "      <td>GTAATGTTGCCAGTTCCTCAGCCCGACGCGTCATGAAACCGAACAA...</td>\n",
       "    </tr>\n",
       "    <tr>\n",
       "      <th>10</th>\n",
       "      <td>dr</td>\n",
       "      <td>sox8b</td>\n",
       "      <td>B4</td>\n",
       "      <td>Danio_rerio.GRCz11.cdna.all.fa</td>\n",
       "      <td>CGCAGCTCAGTCAGAAAAACACCGGGGTCGTGTGAGATGATGCGCC...</td>\n",
       "    </tr>\n",
       "  </tbody>\n",
       "</table>\n",
       "</div>"
      ],
      "text/plain": [
       "   short gene_name amplifier                       reference  \\\n",
       "0     dr     myo6b        B5  Danio_rerio.GRCz11.cdna.all.fa   \n",
       "1     dr      her1        B1  Danio_rerio.GRCz11.cdna.all.fa   \n",
       "2     dr    calm1b        B2  Danio_rerio.GRCz11.cdna.all.fa   \n",
       "3     dr     tekt3        B3  Danio_rerio.GRCz11.cdna.all.fa   \n",
       "4     dr     capgb        B4  Danio_rerio.GRCz11.cdna.all.fa   \n",
       "5     dr      eya4        B1  Danio_rerio.GRCz11.cdna.all.fa   \n",
       "6     dr    myo7aa        B2  Danio_rerio.GRCz11.cdna.all.fa   \n",
       "7     dr  cacna1da        B3  Danio_rerio.GRCz11.cdna.all.fa   \n",
       "8     dr      sox2        B4  Danio_rerio.GRCz11.cdna.all.fa   \n",
       "9     dr     sox8a        B1  Danio_rerio.GRCz11.cdna.all.fa   \n",
       "10    dr     sox8b        B4  Danio_rerio.GRCz11.cdna.all.fa   \n",
       "\n",
       "                                             sequence  \n",
       "0   GTGCAATGGATGATGGGAAGCCTGTGTGGGCGCCCCACCCAACCGA...  \n",
       "1   ATTTCTACAAGCAAGACAGATCAGCGGGAATACAACACTGAAGGTG...  \n",
       "2   TCAGGAAGTGCGCGGCGGATGAATACATGCGCGCTTCTTCTCATCG...  \n",
       "3   CTGCGCGCGAGCTTCATTACAGTGACAGACGAGATTCAAACACGTA...  \n",
       "4   TTGATATATTTTCTTCTTGTTTAGGCACAGAAATTTTTCCTGCTGT...  \n",
       "5   GTGCTCACGTTAACTTCAGGATCAGCAGTTAAAGCGGAAAACACGG...  \n",
       "6   GGCTTTATGTCATGTTTATGTCACGTTAAACTCTGAGGTTAGAGAT...  \n",
       "7   TCGGAGTTTTATCTCTGGATATAAGCCGAATCATCATCATCATCCT...  \n",
       "8   CTCTGGCGAGGAGGGAAACCGAGTTTGTGTTGATTCTTCAAGACTA...  \n",
       "9   GTAATGTTGCCAGTTCCTCAGCCCGACGCGTCATGAAACCGAACAA...  \n",
       "10  CGCAGCTCAGTCAGAAAAACACCGGGGTCGTGTGAGATGATGCGCC...  "
      ]
     },
     "execution_count": 3,
     "metadata": {},
     "output_type": "execute_result"
    }
   ],
   "source": [
    "input_csv = f\"{project_name}.csv\"\n",
    "os.makedirs(f'{out_path}{project_name}', exist_ok=True)\n",
    "out_project = os.path.join(f'{out_path}{project_name}')\n",
    "\n",
    "# output folder to your generated HCR probes\n",
    "print(f'You will find your HCR probes here: {out_project}')\n",
    "\n",
    "# show input csv file with relevant columns\n",
    "in_file = os.path.join(f'{in_path}{input_csv}')\n",
    "input_df = pd.read_csv(in_file)\n",
    "input_df = input_df[['short','gene_name','amplifier','reference','sequence']]\n",
    "print()\n",
    "print(f'All correct in the input csv file?')\n",
    "input_df"
   ]
  },
  {
   "cell_type": "markdown",
   "metadata": {},
   "source": [
    "Run HCR probe generator over all rows in input_csv file. \\\n",
    "Code will try to generate 33 pairs for each target. If that can't be reached, the generator will re-run without trying to reach that maximum."
   ]
  },
  {
   "cell_type": "code",
   "execution_count": 4,
   "metadata": {},
   "outputs": [
    {
     "name": "stdout",
     "output_type": "stream",
     "text": [
      "--> Working on dr_myo6b_B5\n"
     ]
    },
    {
     "ename": "KeyboardInterrupt",
     "evalue": "",
     "output_type": "error",
     "traceback": [
      "\u001b[0;31m---------------------------------------------------------------------------\u001b[0m",
      "\u001b[0;31mKeyboardInterrupt\u001b[0m                         Traceback (most recent call last)",
      "Cell \u001b[0;32mIn[4], line 19\u001b[0m\n\u001b[1;32m     17\u001b[0m     numbr \u001b[38;5;241m=\u001b[39m \u001b[38;5;241m0\u001b[39m\n\u001b[1;32m     18\u001b[0m     db \u001b[38;5;241m=\u001b[39m \u001b[38;5;124mf\u001b[39m\u001b[38;5;124m\"\u001b[39m\u001b[38;5;132;01m{\u001b[39;00mreference_path\u001b[38;5;132;01m}\u001b[39;00m\u001b[38;5;124m/\u001b[39m\u001b[38;5;132;01m{\u001b[39;00mrow[\u001b[38;5;124m'\u001b[39m\u001b[38;5;124mreference\u001b[39m\u001b[38;5;124m'\u001b[39m]\u001b[38;5;132;01m}\u001b[39;00m\u001b[38;5;124m\"\u001b[39m\n\u001b[0;32m---> 19\u001b[0m     \u001b[43mmaker\u001b[49m\u001b[43m(\u001b[49m\u001b[43mrow\u001b[49m\u001b[43m[\u001b[49m\u001b[38;5;124;43m'\u001b[39;49m\u001b[38;5;124;43mgene_name\u001b[39;49m\u001b[38;5;124;43m'\u001b[39;49m\u001b[43m]\u001b[49m\u001b[43m,\u001b[49m\u001b[43mrow\u001b[49m\u001b[43m[\u001b[49m\u001b[38;5;124;43m'\u001b[39;49m\u001b[38;5;124;43msequence\u001b[39;49m\u001b[38;5;124;43m'\u001b[39;49m\u001b[43m]\u001b[49m\u001b[43m,\u001b[49m\u001b[43mrow\u001b[49m\u001b[43m[\u001b[49m\u001b[38;5;124;43m'\u001b[39;49m\u001b[38;5;124;43mamplifier\u001b[39;49m\u001b[38;5;124;43m'\u001b[39;49m\u001b[43m]\u001b[49m\u001b[43m,\u001b[49m\u001b[43mpause\u001b[49m\u001b[43m,\u001b[49m\u001b[43mchoose\u001b[49m\u001b[43m,\u001b[49m\u001b[43mpolyAT\u001b[49m\u001b[43m,\u001b[49m\u001b[43mpolyCG\u001b[49m\u001b[43m,\u001b[49m\u001b[43mBlastProbes\u001b[49m\u001b[43m,\u001b[49m\u001b[43mdb\u001b[49m\u001b[43m,\u001b[49m\u001b[43mdropout\u001b[49m\u001b[43m,\u001b[49m\u001b[43mshow\u001b[49m\u001b[43m,\u001b[49m\u001b[43mreport\u001b[49m\u001b[43m,\u001b[49m\u001b[43mmaxprobe\u001b[49m\u001b[43m,\u001b[49m\u001b[43mnumbr\u001b[49m\u001b[43m,\u001b[49m\u001b[43moutfile\u001b[49m\u001b[43m)\u001b[49m\n\u001b[1;32m     20\u001b[0m \u001b[38;5;28;01mexcept\u001b[39;00m \u001b[38;5;167;01mIndexError\u001b[39;00m:\n\u001b[1;32m     21\u001b[0m     maxprobe\u001b[38;5;241m=\u001b[39m\u001b[38;5;124m\"\u001b[39m\u001b[38;5;124mn\u001b[39m\u001b[38;5;124m\"\u001b[39m\n",
      "File \u001b[0;32m~/repos/HCR_probe_generator/maker37cb_mod.py:413\u001b[0m, in \u001b[0;36mmaker\u001b[0;34m(name, fullseq, amplifier, pause, choose, polyAT, polyCG, BlastProbes, db, dropout, show, report, maxprobe, numbr, outfile)\u001b[0m\n\u001b[1;32m    410\u001b[0m \u001b[38;5;66;03m## Probe BLAST setup and execution from FASTA file prepared in previous step\u001b[39;00m\n\u001b[1;32m    412\u001b[0m     cline \u001b[38;5;241m=\u001b[39m bn(query \u001b[38;5;241m=\u001b[39m prelimfile, subject \u001b[38;5;241m=\u001b[39m db, outfmt \u001b[38;5;241m=\u001b[39m \u001b[38;5;241m6\u001b[39m, task \u001b[38;5;241m=\u001b[39m \u001b[38;5;124m'\u001b[39m\u001b[38;5;124mblastn-short\u001b[39m\u001b[38;5;124m'\u001b[39m) \u001b[38;5;66;03m#this uses biopython's blastn formatting function and creates a commandline compatible command \u001b[39;00m\n\u001b[0;32m--> 413\u001b[0m     stdout, stderr \u001b[38;5;241m=\u001b[39m \u001b[43mcline\u001b[49m\u001b[43m(\u001b[49m\u001b[43m)\u001b[49m \u001b[38;5;66;03m#cline() calls the string as a command and passes it to the command line, outputting the blast results to one variable and errors to the other\u001b[39;00m\n\u001b[1;32m    415\u001b[0m     \u001b[38;5;66;03m## From results of blast creating a numpy array (and Pandas database)\u001b[39;00m\n\u001b[1;32m    416\u001b[0m     dt \u001b[38;5;241m=\u001b[39m [(np\u001b[38;5;241m.\u001b[39municode_,\u001b[38;5;241m8\u001b[39m),(np\u001b[38;5;241m.\u001b[39municode_,\u001b[38;5;241m40\u001b[39m),(np\u001b[38;5;241m.\u001b[39mint32),(np\u001b[38;5;241m.\u001b[39mint32),(np\u001b[38;5;241m.\u001b[39mint32),(np\u001b[38;5;241m.\u001b[39mint32),(np\u001b[38;5;241m.\u001b[39mint32),(np\u001b[38;5;241m.\u001b[39mint32),(np\u001b[38;5;241m.\u001b[39mint32),(np\u001b[38;5;241m.\u001b[39mint32),(np\u001b[38;5;241m.\u001b[39mfloat),(np\u001b[38;5;241m.\u001b[39mfloat)]\n",
      "File \u001b[0;32m~/miniconda3/envs/hcr_probe/lib/python3.9/site-packages/Bio/Application/__init__.py:551\u001b[0m, in \u001b[0;36mAbstractCommandline.__call__\u001b[0;34m(self, stdin, stdout, stderr, cwd, env)\u001b[0m\n\u001b[1;32m    540\u001b[0m child_process \u001b[38;5;241m=\u001b[39m subprocess\u001b[38;5;241m.\u001b[39mPopen(\n\u001b[1;32m    541\u001b[0m     \u001b[38;5;28mstr\u001b[39m(\u001b[38;5;28mself\u001b[39m),\n\u001b[1;32m    542\u001b[0m     stdin\u001b[38;5;241m=\u001b[39msubprocess\u001b[38;5;241m.\u001b[39mPIPE,\n\u001b[0;32m   (...)\u001b[0m\n\u001b[1;32m    548\u001b[0m     shell\u001b[38;5;241m=\u001b[39muse_shell,\n\u001b[1;32m    549\u001b[0m )\n\u001b[1;32m    550\u001b[0m \u001b[38;5;66;03m# Use .communicate as can get deadlocks with .wait(), see Bug 2804\u001b[39;00m\n\u001b[0;32m--> 551\u001b[0m stdout_str, stderr_str \u001b[38;5;241m=\u001b[39m \u001b[43mchild_process\u001b[49m\u001b[38;5;241;43m.\u001b[39;49m\u001b[43mcommunicate\u001b[49m\u001b[43m(\u001b[49m\u001b[43mstdin\u001b[49m\u001b[43m)\u001b[49m\n\u001b[1;32m    552\u001b[0m \u001b[38;5;28;01mif\u001b[39;00m \u001b[38;5;129;01mnot\u001b[39;00m stdout:\n\u001b[1;32m    553\u001b[0m     \u001b[38;5;28;01massert\u001b[39;00m \u001b[38;5;129;01mnot\u001b[39;00m stdout_str, stdout_str\n",
      "File \u001b[0;32m~/miniconda3/envs/hcr_probe/lib/python3.9/subprocess.py:1134\u001b[0m, in \u001b[0;36mPopen.communicate\u001b[0;34m(self, input, timeout)\u001b[0m\n\u001b[1;32m   1131\u001b[0m     endtime \u001b[38;5;241m=\u001b[39m \u001b[38;5;28;01mNone\u001b[39;00m\n\u001b[1;32m   1133\u001b[0m \u001b[38;5;28;01mtry\u001b[39;00m:\n\u001b[0;32m-> 1134\u001b[0m     stdout, stderr \u001b[38;5;241m=\u001b[39m \u001b[38;5;28;43mself\u001b[39;49m\u001b[38;5;241;43m.\u001b[39;49m\u001b[43m_communicate\u001b[49m\u001b[43m(\u001b[49m\u001b[38;5;28;43minput\u001b[39;49m\u001b[43m,\u001b[49m\u001b[43m \u001b[49m\u001b[43mendtime\u001b[49m\u001b[43m,\u001b[49m\u001b[43m \u001b[49m\u001b[43mtimeout\u001b[49m\u001b[43m)\u001b[49m\n\u001b[1;32m   1135\u001b[0m \u001b[38;5;28;01mexcept\u001b[39;00m \u001b[38;5;167;01mKeyboardInterrupt\u001b[39;00m:\n\u001b[1;32m   1136\u001b[0m     \u001b[38;5;66;03m# https://bugs.python.org/issue25942\u001b[39;00m\n\u001b[1;32m   1137\u001b[0m     \u001b[38;5;66;03m# See the detailed comment in .wait().\u001b[39;00m\n\u001b[1;32m   1138\u001b[0m     \u001b[38;5;28;01mif\u001b[39;00m timeout \u001b[38;5;129;01mis\u001b[39;00m \u001b[38;5;129;01mnot\u001b[39;00m \u001b[38;5;28;01mNone\u001b[39;00m:\n",
      "File \u001b[0;32m~/miniconda3/envs/hcr_probe/lib/python3.9/subprocess.py:1995\u001b[0m, in \u001b[0;36mPopen._communicate\u001b[0;34m(self, input, endtime, orig_timeout)\u001b[0m\n\u001b[1;32m   1988\u001b[0m     \u001b[38;5;28mself\u001b[39m\u001b[38;5;241m.\u001b[39m_check_timeout(endtime, orig_timeout,\n\u001b[1;32m   1989\u001b[0m                         stdout, stderr,\n\u001b[1;32m   1990\u001b[0m                         skip_check_and_raise\u001b[38;5;241m=\u001b[39m\u001b[38;5;28;01mTrue\u001b[39;00m)\n\u001b[1;32m   1991\u001b[0m     \u001b[38;5;28;01mraise\u001b[39;00m \u001b[38;5;167;01mRuntimeError\u001b[39;00m(  \u001b[38;5;66;03m# Impossible :)\u001b[39;00m\n\u001b[1;32m   1992\u001b[0m         \u001b[38;5;124m'\u001b[39m\u001b[38;5;124m_check_timeout(..., skip_check_and_raise=True) \u001b[39m\u001b[38;5;124m'\u001b[39m\n\u001b[1;32m   1993\u001b[0m         \u001b[38;5;124m'\u001b[39m\u001b[38;5;124mfailed to raise TimeoutExpired.\u001b[39m\u001b[38;5;124m'\u001b[39m)\n\u001b[0;32m-> 1995\u001b[0m ready \u001b[38;5;241m=\u001b[39m \u001b[43mselector\u001b[49m\u001b[38;5;241;43m.\u001b[39;49m\u001b[43mselect\u001b[49m\u001b[43m(\u001b[49m\u001b[43mtimeout\u001b[49m\u001b[43m)\u001b[49m\n\u001b[1;32m   1996\u001b[0m \u001b[38;5;28mself\u001b[39m\u001b[38;5;241m.\u001b[39m_check_timeout(endtime, orig_timeout, stdout, stderr)\n\u001b[1;32m   1998\u001b[0m \u001b[38;5;66;03m# XXX Rewrite these to use non-blocking I/O on the file\u001b[39;00m\n\u001b[1;32m   1999\u001b[0m \u001b[38;5;66;03m# objects; they are no longer using C stdio!\u001b[39;00m\n",
      "File \u001b[0;32m~/miniconda3/envs/hcr_probe/lib/python3.9/selectors.py:416\u001b[0m, in \u001b[0;36m_PollLikeSelector.select\u001b[0;34m(self, timeout)\u001b[0m\n\u001b[1;32m    414\u001b[0m ready \u001b[38;5;241m=\u001b[39m []\n\u001b[1;32m    415\u001b[0m \u001b[38;5;28;01mtry\u001b[39;00m:\n\u001b[0;32m--> 416\u001b[0m     fd_event_list \u001b[38;5;241m=\u001b[39m \u001b[38;5;28;43mself\u001b[39;49m\u001b[38;5;241;43m.\u001b[39;49m\u001b[43m_selector\u001b[49m\u001b[38;5;241;43m.\u001b[39;49m\u001b[43mpoll\u001b[49m\u001b[43m(\u001b[49m\u001b[43mtimeout\u001b[49m\u001b[43m)\u001b[49m\n\u001b[1;32m    417\u001b[0m \u001b[38;5;28;01mexcept\u001b[39;00m \u001b[38;5;167;01mInterruptedError\u001b[39;00m:\n\u001b[1;32m    418\u001b[0m     \u001b[38;5;28;01mreturn\u001b[39;00m ready\n",
      "\u001b[0;31mKeyboardInterrupt\u001b[0m: "
     ]
    }
   ],
   "source": [
    "for index, row in input_df.iterrows():\n",
    "    print(f\"--> Working on {row['short']}_{row['gene_name']}_{row['amplifier']}\")\n",
    "    outfile = os.path.join(f\"{out_project}/{row['short']}_{row['gene_name']}_{row['amplifier']}_probes.csv\")\n",
    "    \n",
    "    with open(os.path.join(f\"{out_project}/{row['short']}_{row['gene_name']}_{row['amplifier']}_log.txt\"), 'w') as f:\n",
    "        with redirect_stdout(f):\n",
    "            try:\n",
    "                pause = 12\n",
    "                polyAT = 5\n",
    "                polyCG = 5\n",
    "                choose = \"n\"\n",
    "                BlastProbes = \"y\"\n",
    "                dropout = \"y\"\n",
    "                show = \"y\"\n",
    "                report = \"y\"\n",
    "                maxprobe = \"y\"\n",
    "                numbr = 0\n",
    "                db = f\"{reference_path}/{row['reference']}\"\n",
    "                maker(row['gene_name'],row['sequence'],row['amplifier'],pause,choose,polyAT,polyCG,BlastProbes,db,dropout,show,report,maxprobe,numbr,outfile)\n",
    "            except IndexError:\n",
    "                maxprobe=\"n\"\n",
    "                maker(row['gene_name'],row['sequence'],row['amplifier'],pause,choose,polyAT,polyCG,BlastProbes,db,dropout,show,report,maxprobe,numbr,outfile)\n",
    "\n",
    "\n",
    "# Rename probe pools & fuse all probes into single .csv and .xlsx file for IDT order\n",
    "print('Fusing probes...')\n",
    "all_probes = os.path.join(f\"{out_project}/{project_name}_all_probes\")\n",
    "all_probes_df = pd.DataFrame({'Pool name': [], 'Sequence': []})\n",
    "\n",
    "for index, row in input_df.iterrows():\n",
    "    print(f\"--> Fusing {row['short']}_{row['gene_name']}_{row['amplifier']}\")\n",
    "    \n",
    "    probes = os.path.join(f\"{out_project}/{row['short']}_{row['gene_name']}_{row['amplifier']}_probes.csv\")\n",
    "\n",
    "    probes_df = pd.read_csv(probes)\n",
    "    print(probes_df.shape)\n",
    "\n",
    "    new_pool_name = f\"{row['short']}_{row['gene_name']}_{row['amplifier']}_{index}\"\n",
    "    old_pool_name = probes_df['Pool name'][1]\n",
    "\n",
    "    probes_df['Pool name'].replace(old_pool_name, new_pool_name, inplace=True)\n",
    "    probes_df.to_csv(f\"{out_project}/{row['short']}_{row['gene_name']}_{row['amplifier']}_probes.csv\", index=None)\n",
    "    \n",
    "    all_probes_df = all_probes_df.append(probes_df)\n",
    "all_probes_df.to_csv(f'{all_probes}.csv', index=None)\n",
    "all_probes_df.to_excel(f'{all_probes}.xlsx', index=None)\n"
   ]
  }
 ],
 "metadata": {
  "kernelspec": {
   "display_name": "hcr_probe",
   "language": "python",
   "name": "python3"
  },
  "language_info": {
   "codemirror_mode": {
    "name": "ipython",
    "version": 3
   },
   "file_extension": ".py",
   "mimetype": "text/x-python",
   "name": "python",
   "nbconvert_exporter": "python",
   "pygments_lexer": "ipython3",
   "version": "3.9.20"
  }
 },
 "nbformat": 4,
 "nbformat_minor": 2
}
