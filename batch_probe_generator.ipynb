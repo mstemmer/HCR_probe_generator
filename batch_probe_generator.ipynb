{
 "cells": [
  {
   "cell_type": "markdown",
   "metadata": {},
   "source": [
    "# This code creates HCR probe pairs from targets, listed in corresponding .csv file"
   ]
  },
  {
   "cell_type": "markdown",
   "metadata": {},
   "source": [
    "If python environment is not available, create it with this command and select it (kernel):\n",
    "```\n",
    "conda create -n hcr_probe_generator -c bioconda biopython numpy=1.23.5 pandas=1.3.5 blast openpyxl\n",
    "```"
   ]
  },
  {
   "cell_type": "code",
   "execution_count": 2,
   "metadata": {},
   "outputs": [],
   "source": [
    "# import modules\n",
    "from maker37cb_mod import maker\n",
    "import os\n",
    "import pandas as pd\n",
    "from contextlib import redirect_stdout"
   ]
  },
  {
   "cell_type": "markdown",
   "metadata": {},
   "source": [
    "Define project name (name of your input csv file) and make sure file paths are correct:"
   ]
  },
  {
   "cell_type": "code",
   "execution_count": null,
   "metadata": {},
   "outputs": [],
   "source": [
    "project_name = \"20241121_HCR_probes_Sunny\"\n",
    "\n",
    "in_path = \"/home/mstemmer/repos/HCR_probe_generator/targets/\"\n",
    "out_path = \"/home/mstemmer/repos/HCR_probe_generator/generated_probes/\"\n",
    "reference_path= \"/home/mstemmer/repos/HCR_probe_generator/references/\""
   ]
  },
  {
   "cell_type": "markdown",
   "metadata": {},
   "source": [
    "Place your input.csv file into the targets folder (same name as project) \\\n",
    "The reference file (into reference folder) should be an unpacked .fa file, specified also in the input .csv file. \\\n",
    "--> See example_input.csv file for required headers/columns! \n",
    "\n",
    "Required headers (all others columns will be ignored): \n",
    "```\n",
    "'short','gene_name','amplifier','reference','sequence'\n",
    "```\n",
    "'short': abbreviated species name (e.g. 'dr' for Danio rerio)"
   ]
  },
  {
   "cell_type": "markdown",
   "metadata": {},
   "source": [
    "Sort out file structures \\\n",
    "Check, if input file is correct!"
   ]
  },
  {
   "cell_type": "code",
   "execution_count": null,
   "metadata": {},
   "outputs": [
    {
     "name": "stdout",
     "output_type": "stream",
     "text": [
      "You will find your HCR probes here: /home/mstemmer/repos/HCR_probe_generator/generated_probes/20241121_HCR_probes_Sunny\n",
      "\n",
      "All correct in the input csv file?\n"
     ]
    },
    {
     "data": {
      "text/html": [
       "<div>\n",
       "<style scoped>\n",
       "    .dataframe tbody tr th:only-of-type {\n",
       "        vertical-align: middle;\n",
       "    }\n",
       "\n",
       "    .dataframe tbody tr th {\n",
       "        vertical-align: top;\n",
       "    }\n",
       "\n",
       "    .dataframe thead th {\n",
       "        text-align: right;\n",
       "    }\n",
       "</style>\n",
       "<table border=\"1\" class=\"dataframe\">\n",
       "  <thead>\n",
       "    <tr style=\"text-align: right;\">\n",
       "      <th></th>\n",
       "      <th>short</th>\n",
       "      <th>gene_name</th>\n",
       "      <th>amplifier</th>\n",
       "      <th>reference</th>\n",
       "      <th>sequence</th>\n",
       "    </tr>\n",
       "  </thead>\n",
       "  <tbody>\n",
       "    <tr>\n",
       "      <th>0</th>\n",
       "      <td>dr</td>\n",
       "      <td>calb2b</td>\n",
       "      <td>B1</td>\n",
       "      <td>Danio_rerio.GRCz11.cdna.all.fa</td>\n",
       "      <td>ATGGCGAATAAAGCACCAGAGCCCATTTCTCTGCATTTGGCGGAAC...</td>\n",
       "    </tr>\n",
       "    <tr>\n",
       "      <th>1</th>\n",
       "      <td>dr</td>\n",
       "      <td>trpm5</td>\n",
       "      <td>B2</td>\n",
       "      <td>Danio_rerio.GRCz11.cdna.all.fa</td>\n",
       "      <td>ATGGTCGAGAAGTCCAGTGAGAGATTTGATAAACAGATGGCCGGGC...</td>\n",
       "    </tr>\n",
       "    <tr>\n",
       "      <th>2</th>\n",
       "      <td>dr</td>\n",
       "      <td>plcb2</td>\n",
       "      <td>B3</td>\n",
       "      <td>Danio_rerio.GRCz11.cdna.all.fa</td>\n",
       "      <td>ATGAGCAGAAACAGACACTCGCTGCAGGAGCCCGACATCAAAGACT...</td>\n",
       "    </tr>\n",
       "    <tr>\n",
       "      <th>3</th>\n",
       "      <td>dr</td>\n",
       "      <td>tas1r3</td>\n",
       "      <td>B5</td>\n",
       "      <td>Danio_rerio.GRCz11.cdna.all.fa</td>\n",
       "      <td>ATGCTTCTACTGAGGATGAAGAACAAGTGGACTTTTCTGGTGCTCT...</td>\n",
       "    </tr>\n",
       "  </tbody>\n",
       "</table>\n",
       "</div>"
      ],
      "text/plain": [
       "  short gene_name amplifier                       reference  \\\n",
       "0    dr    calb2b        B1  Danio_rerio.GRCz11.cdna.all.fa   \n",
       "1    dr     trpm5        B2  Danio_rerio.GRCz11.cdna.all.fa   \n",
       "2    dr     plcb2        B3  Danio_rerio.GRCz11.cdna.all.fa   \n",
       "3    dr    tas1r3        B5  Danio_rerio.GRCz11.cdna.all.fa   \n",
       "\n",
       "                                            sequence  \n",
       "0  ATGGCGAATAAAGCACCAGAGCCCATTTCTCTGCATTTGGCGGAAC...  \n",
       "1  ATGGTCGAGAAGTCCAGTGAGAGATTTGATAAACAGATGGCCGGGC...  \n",
       "2  ATGAGCAGAAACAGACACTCGCTGCAGGAGCCCGACATCAAAGACT...  \n",
       "3  ATGCTTCTACTGAGGATGAAGAACAAGTGGACTTTTCTGGTGCTCT...  "
      ]
     },
     "execution_count": 4,
     "metadata": {},
     "output_type": "execute_result"
    }
   ],
   "source": [
    "input_csv = f\"{project_name}.csv\"\n",
    "os.makedirs(f'{out_path}{project_name}', exist_ok=True)\n",
    "out_project = os.path.join(f'{out_path}{project_name}')\n",
    "\n",
    "# output folder to your generated HCR probes\n",
    "print(f'You will find your HCR probes here: {out_project}')\n",
    "\n",
    "# show input csv file with relevant columns\n",
    "in_file = os.path.join(f'{in_path}{input_csv}')\n",
    "input_df = pd.read_csv(in_file)\n",
    "input_df = input_df[['short','gene_name','amplifier','reference','sequence']]\n",
    "print()\n",
    "print(f'All correct in the input csv file?')\n",
    "input_df"
   ]
  },
  {
   "cell_type": "markdown",
   "metadata": {},
   "source": [
    "Run HCR probe generator over all rows in input_csv file. \\\n",
    "Code will try to generate 33 pairs for each target. If that can't be reached, the generator will re-run without trying to reach that maximum."
   ]
  },
  {
   "cell_type": "code",
   "execution_count": null,
   "metadata": {},
   "outputs": [
    {
     "name": "stdout",
     "output_type": "stream",
     "text": [
      "--> Working on dr_B1_calb2b\n",
      "--> Working on dr_B2_trpm5\n",
      "--> Working on dr_B3_plcb2\n",
      "--> Working on dr_B5_tas1r3\n"
     ]
    }
   ],
   "source": [
    "for index, row in input_df.iterrows():\n",
    "    print(f\"--> Working on {row['short']}_{row['amplifier']}_{row['gene_name']}\")\n",
    "    outfile = os.path.join(f\"{out_project}/{row['short']}_{row['amplifier']}_{row['gene_name']}_probes.csv\")\n",
    "    \n",
    "    with open(os.path.join(f\"{out_project}/{row['short']}_{row['amplifier']}_{row['gene_name']}_log.txt\"), 'w') as f:\n",
    "        with redirect_stdout(f):\n",
    "            try:\n",
    "                pause = 12\n",
    "                polyAT = 5\n",
    "                polyCG = 5\n",
    "                choose = \"n\"\n",
    "                BlastProbes = \"y\"\n",
    "                dropout = \"y\"\n",
    "                show = \"y\"\n",
    "                report = \"y\"\n",
    "                maxprobe = \"y\"\n",
    "                numbr = 0\n",
    "                db = f\"{reference_path}/{row['reference']}\"\n",
    "                maker(row['gene_name'],row['sequence'],row['amplifier'],pause,choose,polyAT,polyCG,BlastProbes,db,dropout,show,report,maxprobe,numbr,outfile)\n",
    "            except IndexError:\n",
    "                maxprobe=\"n\"\n",
    "                maker(row['gene_name'],row['sequence'],row['amplifier'],pause,choose,polyAT,polyCG,BlastProbes,db,dropout,show,report,maxprobe,numbr,outfile)\n",
    "\n",
    "\n",
    "# Fuse all probes into single .csv and .xlsx file for IDT order\n",
    "\n",
    "print('Fusing probes...')\n",
    "all_probes = os.path.join(f\"{out_project}/{project_name}_all_probes\")\n",
    "all_probes_df = pd.DataFrame({'Pool name': [], 'Sequence': []})\n",
    "\n",
    "for index, row in input_df.iterrows():\n",
    "    print(f\"--> Fusing {row['gene_name']}\")\n",
    "    \n",
    "    probes = os.path.join(f\"{out_project}/{row['short']}_{row['amplifier']}_{row['gene_name']}_probes.csv\")\n",
    "\n",
    "    probes_df = pd.read_csv(probes)\n",
    "    print(probes_df.shape)\n",
    "    \n",
    "    # all_probes_df = \n",
    "    all_probes_df = all_probes_df.append(probes_df)\n",
    "all_probes_df.to_csv(f'{all_probes}.csv', index=None)\n",
    "all_probes_df.to_excel(f'{all_probes}.xlsx', index=None)"
   ]
  }
 ],
 "metadata": {
  "kernelspec": {
   "display_name": "hcr_probe",
   "language": "python",
   "name": "python3"
  },
  "language_info": {
   "codemirror_mode": {
    "name": "ipython",
    "version": 3
   },
   "file_extension": ".py",
   "mimetype": "text/x-python",
   "name": "python",
   "nbconvert_exporter": "python",
   "pygments_lexer": "ipython3",
   "version": "3.9.20"
  }
 },
 "nbformat": 4,
 "nbformat_minor": 2
}
