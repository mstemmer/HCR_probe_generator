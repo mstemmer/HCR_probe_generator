{
 "cells": [
  {
   "cell_type": "markdown",
   "metadata": {},
   "source": [
    "# This code creates HCR probe pairs from targets, listed in corresponding .csv file (in_file)"
   ]
  },
  {
   "cell_type": "markdown",
   "metadata": {},
   "source": [
    "If python environment is not available, create it with this command and select it (kernel):\n",
    "```\n",
    "conda create -n hcr_probe_generator -c bioconda biopython numpy=1.23.5 pandas=1.3.5 blast\n",
    "```"
   ]
  },
  {
   "cell_type": "code",
   "execution_count": 2,
   "metadata": {},
   "outputs": [],
   "source": [
    "# import modules\n",
    "from maker37cb_mod import maker\n",
    "import os\n",
    "import pandas as pd\n",
    "from contextlib import redirect_stdout"
   ]
  },
  {
   "cell_type": "markdown",
   "metadata": {},
   "source": [
    "Define path and filename if input .csv file:"
   ]
  },
  {
   "cell_type": "code",
   "execution_count": 3,
   "metadata": {},
   "outputs": [],
   "source": [
    "input_csv = \"20241121_HCR_probes_Manuel.csv\"\n",
    "in_path = \"/home/mstemmer/repos/HCR_probe_generator/targets/\""
   ]
  },
  {
   "cell_type": "markdown",
   "metadata": {},
   "source": [
    "Define path of output files:"
   ]
  },
  {
   "cell_type": "code",
   "execution_count": 4,
   "metadata": {},
   "outputs": [],
   "source": [
    "outpath = \"/home/mstemmer/repos/HCR_probe_generator/generated_probes/\""
   ]
  },
  {
   "cell_type": "code",
   "execution_count": 5,
   "metadata": {},
   "outputs": [
    {
     "data": {
      "text/html": [
       "<div>\n",
       "<style scoped>\n",
       "    .dataframe tbody tr th:only-of-type {\n",
       "        vertical-align: middle;\n",
       "    }\n",
       "\n",
       "    .dataframe tbody tr th {\n",
       "        vertical-align: top;\n",
       "    }\n",
       "\n",
       "    .dataframe thead th {\n",
       "        text-align: right;\n",
       "    }\n",
       "</style>\n",
       "<table border=\"1\" class=\"dataframe\">\n",
       "  <thead>\n",
       "    <tr style=\"text-align: right;\">\n",
       "      <th></th>\n",
       "      <th>short</th>\n",
       "      <th>gene_name</th>\n",
       "      <th>amplifier</th>\n",
       "      <th>reference</th>\n",
       "      <th>sequence</th>\n",
       "    </tr>\n",
       "  </thead>\n",
       "  <tbody>\n",
       "    <tr>\n",
       "      <th>0</th>\n",
       "      <td>dr</td>\n",
       "      <td>cfos</td>\n",
       "      <td>B2</td>\n",
       "      <td>Danio_rerio.GRCz11.cdna.all.fa</td>\n",
       "      <td>CCAAAACAGAGAAAAGAGCAGCAGACGAGCAAGGAAATACAAGACC...</td>\n",
       "    </tr>\n",
       "    <tr>\n",
       "      <th>1</th>\n",
       "      <td>dr</td>\n",
       "      <td>cfos</td>\n",
       "      <td>B3</td>\n",
       "      <td>Danio_rerio.GRCz11.cdna.all.fa</td>\n",
       "      <td>CCAAAACAGAGAAAAGAGCAGCAGACGAGCAAGGAAATACAAGACC...</td>\n",
       "    </tr>\n",
       "    <tr>\n",
       "      <th>2</th>\n",
       "      <td>dr</td>\n",
       "      <td>myo6b</td>\n",
       "      <td>B5</td>\n",
       "      <td>Danio_rerio.GRCz11.cdna.all.fa</td>\n",
       "      <td>GTGCAATGGATGATGGGAAGCCTGTGTGGGCGCCCCACCCAACCGA...</td>\n",
       "    </tr>\n",
       "    <tr>\n",
       "      <th>3</th>\n",
       "      <td>dr</td>\n",
       "      <td>eya1</td>\n",
       "      <td>B1</td>\n",
       "      <td>Danio_rerio.GRCz11.cdna.all.fa</td>\n",
       "      <td>TTTTTTTTCTTCCTCAGACACTAGCTAGTCACTGCCTGCAGCAGTA...</td>\n",
       "    </tr>\n",
       "  </tbody>\n",
       "</table>\n",
       "</div>"
      ],
      "text/plain": [
       "  short gene_name amplifier                       reference  \\\n",
       "0    dr      cfos        B2  Danio_rerio.GRCz11.cdna.all.fa   \n",
       "1    dr      cfos        B3  Danio_rerio.GRCz11.cdna.all.fa   \n",
       "2    dr     myo6b        B5  Danio_rerio.GRCz11.cdna.all.fa   \n",
       "3    dr      eya1        B1  Danio_rerio.GRCz11.cdna.all.fa   \n",
       "\n",
       "                                            sequence  \n",
       "0  CCAAAACAGAGAAAAGAGCAGCAGACGAGCAAGGAAATACAAGACC...  \n",
       "1  CCAAAACAGAGAAAAGAGCAGCAGACGAGCAAGGAAATACAAGACC...  \n",
       "2  GTGCAATGGATGATGGGAAGCCTGTGTGGGCGCCCCACCCAACCGA...  \n",
       "3  TTTTTTTTCTTCCTCAGACACTAGCTAGTCACTGCCTGCAGCAGTA...  "
      ]
     },
     "execution_count": 5,
     "metadata": {},
     "output_type": "execute_result"
    }
   ],
   "source": [
    "# show input csv file with relevant columns\n",
    "in_file = os.path.join(f'{in_path}{input_csv}')\n",
    "input_df = pd.read_csv(in_file)\n",
    "input_df = input_df[['short','gene_name','amplifier','reference','sequence']]\n",
    "input_df"
   ]
  },
  {
   "cell_type": "markdown",
   "metadata": {},
   "source": [
    "Run HCR probe generator over all rows in input_csv file:"
   ]
  },
  {
   "cell_type": "code",
   "execution_count": 5,
   "metadata": {},
   "outputs": [
    {
     "name": "stdout",
     "output_type": "stream",
     "text": [
      "--> Working on dr_B2_cfos\n",
      "--> Working on dr_B3_cfos\n",
      "--> Working on dr_B5_myo6b\n",
      "--> Working on dr_B1_eya1\n"
     ]
    }
   ],
   "source": [
    "for index, row in input_df.iterrows():\n",
    "    print(f\"--> Working on {row['short']}_{row['amplifier']}_{row['gene_name']}\")\n",
    "    outfile = os.path.join(f\"{outpath}{row['short']}_{row['amplifier']}_{row['gene_name']}_probes.csv\")\n",
    "    \n",
    "    with open(os.path.join(f\"{outpath}{row['short']}_{row['amplifier']}_{row['gene_name']}_log.txt\"), 'w') as f:\n",
    "        with redirect_stdout(f):\n",
    "            try:\n",
    "                pause = 12\n",
    "                polyAT = 5\n",
    "                polyCG = 5\n",
    "                choose = \"n\"\n",
    "                BlastProbes = \"y\"\n",
    "                dropout = \"y\"\n",
    "                show = \"y\"\n",
    "                report = \"y\"\n",
    "                maxprobe = \"y\"\n",
    "                numbr = 0\n",
    "                db = f\"/home/mstemmer/repos/HCR_probe_generator/references/{row['reference']}\"\n",
    "                maker(row['gene_name'],row['sequence'],row['amplifier'],pause,choose,polyAT,polyCG,BlastProbes,db,dropout,show,report,maxprobe,numbr,outfile)\n",
    "            except IndexError:\n",
    "                maxprobe=\"n\"\n",
    "                maker(row['gene_name'],row['sequence'],row['amplifier'],pause,choose,polyAT,polyCG,BlastProbes,db,dropout,show,report,maxprobe,numbr,outfile)\n",
    "                \n",
    "        # print(f\"Max probes could not be reached for {row['gene_name']}\", flush=True)\n",
    "        # print(f\"Trying again without max setting...\")"
   ]
  },
  {
   "cell_type": "code",
   "execution_count": 16,
   "metadata": {},
   "outputs": [
    {
     "name": "stdout",
     "output_type": "stream",
     "text": [
      "--> Fusing cfos\n",
      "(56, 2)\n",
      "--> Fusing cfos\n",
      "(56, 2)\n",
      "--> Fusing myo6b\n",
      "(66, 2)\n",
      "--> Fusing eya1\n",
      "(66, 2)\n",
      "           Pool name                                       Sequence\n",
      "0   B2_cfos_28_Dla12  CCTCGTAAATCCTCATCAaaTTTCAGTACAAAAATAAAAACTCCA\n",
      "1   B2_cfos_28_Dla12  TTTTTGCAAACAATTCGCAAGTTCAaaATCATCCAGTAAACCGCC\n",
      "2   B2_cfos_28_Dla12  CCTCGTAAATCCTCATCAaaAAAACTTCATACTTGGACGTCAGAC\n",
      "3   B2_cfos_28_Dla12  ATTAAAAGAGAGACTACGTTTTCACaaATCATCCAGTAAACCGCC\n",
      "4   B2_cfos_28_Dla12  CCTCGTAAATCCTCATCAaaTTGAGTAAACAACATTCACACGTTC\n",
      "..               ...                                            ...\n",
      "61  B1_eya1_33_Dla12  AAAAAGCAGAAACTTCTCAGAGAGTtaGAAGAGTCTTCCTTTACG\n",
      "62  B1_eya1_33_Dla12  GAGGAGGGCAGCAAACGGaaAGTCATGGAGCCCCGTGCTGGATCT\n",
      "63  B1_eya1_33_Dla12  TTTTTCTTTTTCATTTTAAGGGTGAtaGAAGAGTCTTCCTTTACG\n",
      "64  B1_eya1_33_Dla12  GAGGAGGGCAGCAAACGGaaTTGTCCGATTACTGCTGCAGGCAGT\n",
      "65  B1_eya1_33_Dla12  GAGACAGACTCCAAGTAAGAACGAGtaGAAGAGTCTTCCTTTACG\n",
      "\n",
      "[244 rows x 2 columns]\n"
     ]
    }
   ],
   "source": [
    "all_probes_csv = os.path.join(f\"{outpath}_all_probes.csv\")\n",
    "all_probes_df = pd.DataFrame({'Pool name': [], 'Sequence': []})\n",
    "\n",
    "for index, row in input_df.iterrows():\n",
    "    print(f\"--> Fusing {row['gene_name']}\")\n",
    "    \n",
    "    probes = os.path.join(f\"{outpath}{row['short']}_{row['amplifier']}_{row['gene_name']}_probes.csv\")\n",
    "\n",
    "    probes_df = pd.read_csv(probes)\n",
    "    print(probes_df.shape)\n",
    "    \n",
    "    # all_probes_df = \n",
    "    all_probes_df = all_probes_df.append(probes_df)\n",
    "print(all_probes_df)\n",
    "all_probes_df.to_csv(all_probes_csv, index=None)"
   ]
  }
 ],
 "metadata": {
  "kernelspec": {
   "display_name": "hcr_probe",
   "language": "python",
   "name": "python3"
  },
  "language_info": {
   "codemirror_mode": {
    "name": "ipython",
    "version": 3
   },
   "file_extension": ".py",
   "mimetype": "text/x-python",
   "name": "python",
   "nbconvert_exporter": "python",
   "pygments_lexer": "ipython3",
   "version": "3.9.20"
  }
 },
 "nbformat": 4,
 "nbformat_minor": 2
}
