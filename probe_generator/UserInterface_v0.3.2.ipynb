{
 "cells": [
  {
   "cell_type": "markdown",
   "metadata": {},
   "source": [
    "# Welcome to the HCR 3.0 Probe Maker v0.3.2\n",
    "### Written by:\n",
    "RW Null, MD Ramirez, D Sun, and BD Özpolat"
   ]
  },
  {
   "cell_type": "markdown",
   "metadata": {},
   "source": [
    "\n",
    "### To run a cell, click on it, hold \"SHIFT\" and press \"RETURN\" on your keyboard\n",
    "\n",
    "####   - or -   use the [>| Run] button above \n"
   ]
  },
  {
   "cell_type": "code",
   "execution_count": null,
   "metadata": {},
   "outputs": [],
   "source": [
    "# install\n",
    "\n",
    "conda create -n hcr_probes_env python biopython numpy=1.23.5 pandas=1.3.5 blast\n",
    "\n"
   ]
  },
  {
   "cell_type": "markdown",
   "metadata": {},
   "source": [
    "# Start with this box. \n",
    "   ### After you run this box you can use the boxes below to modify particular inputs of your run."
   ]
  },
  {
   "cell_type": "code",
   "execution_count": 4,
   "metadata": {
    "scrolled": false
   },
   "outputs": [
    {
     "name": "stdout",
     "output_type": "stream",
     "text": [
      "\n",
      "\n",
      "HCR3.0 Probe Maker Output version 2021_0.3.2\n",
      "https://doi.org/10.5281/zenodo.3871970\n",
      "\n",
      "Written by Ryan W Null - ORCID_0000-0002-3830-4152\n",
      " with M. Desmond Ramirez - ORCID_0000-0003-3873-6999\n",
      "Dennis Sun - ORCID_0000-0003-1000-7276\n",
      " and B. Duygu Ozpolat - ORCID_0000-0002-1900-965X\n",
      "\n",
      "Copyright 2019-2021  The Ozpolat Lab,  https://bduyguozpolat.org/ \n",
      " with licensing provided under GPL 3.0\n",
      "\n",
      "For more information visit: \n",
      " https://github.com/rwnull/insitu_probe_generator\n",
      "\n",
      "\n",
      "\n",
      "\n",
      "\n",
      "2024-03-28\n",
      "\n",
      "\n",
      "\n",
      "From the given parameters, we were able to make 33 probe pairs.\n",
      "\n",
      "\n",
      "Below is in IDT oPool submission_format.\n",
      "Copy and Paste the lines below into an XLSX file for submission to IDT starting from 'Pool name'.\n",
      "\n",
      "Pool name, Sequence\n",
      "B1_chata_33_Dla12,GAGGAGGGCAGCAAACGGaaCTTAGGGTTTCCCTCCATCCTTTGT\n",
      "B1_chata_33_Dla12,TTATGACTTGCTTCCATTCTTCATTtaGAAGAGTCTTCCTTTACG\n",
      "B1_chata_33_Dla12,GAGGAGGGCAGCAAACGGaaCATTTTCTGCACAGATCTTGCATTT\n",
      "B1_chata_33_Dla12,GAGTCAGCTGGTTTAACTTCAGTGTtaGAAGAGTCTTCCTTTACG\n",
      "B1_chata_33_Dla12,GAGGAGGGCAGCAAACGGaaACAAATCTGAGCTGGTCTCCGCACA\n",
      "B1_chata_33_Dla12,TCAGGCACCCCTCAAGAGTCTTCACtaGAAGAGTCTTCCTTTACG\n",
      "B1_chata_33_Dla12,GAGGAGGGCAGCAAACGGaaGTGGTCCGTCTGAGGATTGTAGCAG\n",
      "B1_chata_33_Dla12,ACGGAAGCTGGACACGCAGAAGAGGtaGAAGAGTCTTCCTTTACG\n",
      "B1_chata_33_Dla12,GAGGAGGGCAGCAAACGGaaTAGCAGCAGAACATCTCCTCAGTGG\n",
      "B1_chata_33_Dla12,CCGTAGCCATTTGGGACGACTGGACtaGAAGAGTCTTCCTTTACG\n",
      "B1_chata_33_Dla12,GAGGAGGGCAGCAAACGGaaGGATGCTGGTTGCGTAGGTCGTATC\n",
      "B1_chata_33_Dla12,GAACCTGGCTTGTAGAGAGAGTGAAtaGAAGAGTCTTCCTTTACG\n",
      "B1_chata_33_Dla12,GAGGAGGGCAGCAAACGGaaCTCCTTGGCAATCTCTCGCAGCCCC\n",
      "B1_chata_33_Dla12,AAACAGCTCTGGCTTTTCCAGTTTCtaGAAGAGTCTTCCTTTACG\n",
      "B1_chata_33_Dla12,GAGGAGGGCAGCAAACGGaaATTGCTAGAATTGTGTAATTAGTTT\n",
      "B1_chata_33_Dla12,AAGTGATTGTCTATTGCCATTCCTGtaGAAGAGTCTTCCTTTACG\n",
      "B1_chata_33_Dla12,GAGGAGGGCAGCAAACGGaaTTTTCTCAGCATCAGTGATTTTGGA\n",
      "B1_chata_33_Dla12,CTTTTATGGCAGTCCAGAGCAACTCtaGAAGAGTCTTCCTTTACG\n",
      "B1_chata_33_Dla12,GAGGAGGGCAGCAAACGGaaGGCTTCAGGGGTGGAGGAGCGAATG\n",
      "B1_chata_33_Dla12,ACTGGCCATAGCTTTGACAAATGCTtaGAAGAGTCTTCCTTTACG\n",
      "B1_chata_33_Dla12,GAGGAGGGCAGCAAACGGaaATTGATGCACTTTCATAGGTGGGCA\n",
      "B1_chata_33_Dla12,TCGACTCGTCCCTCTTGAAAGCGGCtaGAAGAGTCTTCCTTTACG\n",
      "B1_chata_33_Dla12,GAGGAGGGCAGCAAACGGaaACTGGAGCGCAACTTGGACATAAGC\n",
      "B1_chata_33_Dla12,GACGTCCATGACATCTGTAAAATGTtaGAAGAGTCTTCCTTTACG\n",
      "B1_chata_33_Dla12,GAGGAGGGCAGCAAACGGaaCTCTTTGCCATAACCAGTGAATTTG\n",
      "B1_chata_33_Dla12,AGGGCTCATTTTCTGTCTCTTGATGtaGAAGAGTCTTCCTTTACG\n",
      "B1_chata_33_Dla12,GAGGAGGGCAGCAAACGGaaCTGAGGCTGAGAGGAAGGTTTGGAT\n",
      "B1_chata_33_Dla12,TTTTTACAAGTTTCTGTAATCTGTCtaGAAGAGTCTTCCTTTACG\n",
      "B1_chata_33_Dla12,GAGGAGGGCAGCAAACGGaaGGGGGCTGGAAGTTCACTCATGCTG\n",
      "B1_chata_33_Dla12,TGGAGAGCATTTCCAGCGCAGTCGTtaGAAGAGTCTTCCTTTACG\n",
      "B1_chata_33_Dla12,GAGGAGGGCAGCAAACGGaaCTCATGTATCTCAGTAGATACTCCG\n",
      "B1_chata_33_Dla12,GCTCTCACCAGCTTAGAAGGGCTTCtaGAAGAGTCTTCCTTTACG\n",
      "B1_chata_33_Dla12,GAGGAGGGCAGCAAACGGaaGAGAGTGTTCACAGACGACGCCACA\n",
      "B1_chata_33_Dla12,ACTGCACAAGCACTATTCCCTCAAAtaGAAGAGTCTTCCTTTACG\n",
      "B1_chata_33_Dla12,GAGGAGGGCAGCAAACGGaaGGGTTTGTCGTACCATCGGTTGCCC\n",
      "B1_chata_33_Dla12,TCCATCAGCACCTATTACAAACTGCtaGAAGAGTCTTCCTTTACG\n",
      "B1_chata_33_Dla12,GAGGAGGGCAGCAAACGGaaATTAGCAAAGCTCTGTTGCTGTCAT\n",
      "B1_chata_33_Dla12,TTTTTGTCCGTTCCTCCTCCATGAAtaGAAGAGTCTTCCTTTACG\n",
      "B1_chata_33_Dla12,GAGGAGGGCAGCAAACGGaaACACCAGACACAAACAGCGCTCAAT\n",
      "B1_chata_33_Dla12,GTTCAGTGGCAGTTTCCTCATCCAAtaGAAGAGTCTTCCTTTACG\n",
      "B1_chata_33_Dla12,GAGGAGGGCAGCAAACGGaaTTTGATCAGTATGTTGCGAGCCTCG\n",
      "B1_chata_33_Dla12,GTCCAGAGAGTCCCTGTTGGTAGAAtaGAAGAGTCTTCCTTTACG\n",
      "B1_chata_33_Dla12,GAGGAGGGCAGCAAACGGaaAGGCCGATTGGAGGCTGACGCTCCT\n",
      "B1_chata_33_Dla12,CACTGTGTTCTGCCATCTGATGTGAtaGAAGAGTCTTCCTTTACG\n",
      "B1_chata_33_Dla12,GAGGAGGGCAGCAAACGGaaCCAGCTGAGTGTAAAGGTCTTTTTC\n",
      "B1_chata_33_Dla12,CGATGTCTGCCATCTTTCTGATTCGtaGAAGAGTCTTCCTTTACG\n",
      "B1_chata_33_Dla12,GAGGAGGGCAGCAAACGGaaATATGTTCGGGTTCAGGCATAACTG\n",
      "B1_chata_33_Dla12,AAAAACTGATTCTTACATGCCACTAtaGAAGAGTCTTCCTTTACG\n",
      "B1_chata_33_Dla12,GAGGAGGGCAGCAAACGGaaTTGTTCCCGGCAGCCTGTAGGACGT\n",
      "B1_chata_33_Dla12,TCTTCTGAGCCACTAAAGTGTCTGTtaGAAGAGTCTTCCTTTACG\n",
      "B1_chata_33_Dla12,GAGGAGGGCAGCAAACGGaaGGGCGTCCCGGCCAACTGCCCACGA\n",
      "B1_chata_33_Dla12,GACCTTGTTGTACTGATCCATACACtaGAAGAGTCTTCCTTTACG\n",
      "B1_chata_33_Dla12,GAGGAGGGCAGCAAACGGaaATTAGAGCTTTATACTCTAATACAC\n",
      "B1_chata_33_Dla12,TGCTCTACAGGGAGAGCACGTCCATtaGAAGAGTCTTCCTTTACG\n",
      "B1_chata_33_Dla12,GAGGAGGGCAGCAAACGGaaCATCACTTTGACCCTTGAAGTTCTG\n",
      "B1_chata_33_Dla12,AAATGAGATTAGCAGCAAATCTGAGtaGAAGAGTCTTCCTTTACG\n",
      "B1_chata_33_Dla12,GAGGAGGGCAGCAAACGGaaGACAGGTAGTGCTAACCTGTTGTTC\n",
      "B1_chata_33_Dla12,GTGAAAGACCATAACAGGACTGGAGtaGAAGAGTCTTCCTTTACG\n",
      "B1_chata_33_Dla12,GAGGAGGGCAGCAAACGGaaACCCAATTGGCCTTTTGTTCACTTC\n",
      "B1_chata_33_Dla12,TACATGTCTTCAAGCCAATAATCATtaGAAGAGTCTTCCTTTACG\n",
      "B1_chata_33_Dla12,GAGGAGGGCAGCAAACGGaaCCACTCCACCAGGTGCTCCAAATTT\n",
      "B1_chata_33_Dla12,CCAGTAACTTTTTCTGAAGGGTTTCtaGAAGAGTCTTCCTTTACG\n",
      "B1_chata_33_Dla12,GAGGAGGGCAGCAAACGGaaGTCCTCTGGGACGAGGTGACCCATG\n",
      "B1_chata_33_Dla12,TACAACGGCCTTGGTCTTTCTGAACtaGAAGAGTCTTCCTTTACG\n",
      "B1_chata_33_Dla12,GAGGAGGGCAGCAAACGGaaCATGGATCTCCCGTGTCCTTTGATT\n",
      "B1_chata_33_Dla12,GGGGGAATGGGGAGCTTCGGGAGAGtaGAAGAGTCTTCCTTTACG\n",
      "\n",
      "\n",
      "Figure Layout of Probe Sequences:\n",
      "\n",
      "B1_chata_PP33_Dla12\n",
      "Pair#  Initiator  Spacer  Probe  Probe  Spacer  Initiator\n",
      "1   GAGGAGGGCAGCAAACGG   aa   CTTAGGGTTTCCCTCCATCCTTTGT     TTATGACTTGCTTCCATTCTTCATT   ta   GAAGAGTCTTCCTTTACG\n",
      "2   GAGGAGGGCAGCAAACGG   aa   CATTTTCTGCACAGATCTTGCATTT     GAGTCAGCTGGTTTAACTTCAGTGT   ta   GAAGAGTCTTCCTTTACG\n",
      "3   GAGGAGGGCAGCAAACGG   aa   ACAAATCTGAGCTGGTCTCCGCACA     TCAGGCACCCCTCAAGAGTCTTCAC   ta   GAAGAGTCTTCCTTTACG\n",
      "4   GAGGAGGGCAGCAAACGG   aa   GTGGTCCGTCTGAGGATTGTAGCAG     ACGGAAGCTGGACACGCAGAAGAGG   ta   GAAGAGTCTTCCTTTACG\n",
      "5   GAGGAGGGCAGCAAACGG   aa   TAGCAGCAGAACATCTCCTCAGTGG     CCGTAGCCATTTGGGACGACTGGAC   ta   GAAGAGTCTTCCTTTACG\n",
      "6   GAGGAGGGCAGCAAACGG   aa   GGATGCTGGTTGCGTAGGTCGTATC     GAACCTGGCTTGTAGAGAGAGTGAA   ta   GAAGAGTCTTCCTTTACG\n",
      "7   GAGGAGGGCAGCAAACGG   aa   CTCCTTGGCAATCTCTCGCAGCCCC     AAACAGCTCTGGCTTTTCCAGTTTC   ta   GAAGAGTCTTCCTTTACG\n",
      "8   GAGGAGGGCAGCAAACGG   aa   ATTGCTAGAATTGTGTAATTAGTTT     AAGTGATTGTCTATTGCCATTCCTG   ta   GAAGAGTCTTCCTTTACG\n",
      "9   GAGGAGGGCAGCAAACGG   aa   TTTTCTCAGCATCAGTGATTTTGGA     CTTTTATGGCAGTCCAGAGCAACTC   ta   GAAGAGTCTTCCTTTACG\n",
      "10   GAGGAGGGCAGCAAACGG   aa   GGCTTCAGGGGTGGAGGAGCGAATG     ACTGGCCATAGCTTTGACAAATGCT   ta   GAAGAGTCTTCCTTTACG\n",
      "11   GAGGAGGGCAGCAAACGG   aa   ATTGATGCACTTTCATAGGTGGGCA     TCGACTCGTCCCTCTTGAAAGCGGC   ta   GAAGAGTCTTCCTTTACG\n",
      "12   GAGGAGGGCAGCAAACGG   aa   ACTGGAGCGCAACTTGGACATAAGC     GACGTCCATGACATCTGTAAAATGT   ta   GAAGAGTCTTCCTTTACG\n",
      "13   GAGGAGGGCAGCAAACGG   aa   CTCTTTGCCATAACCAGTGAATTTG     AGGGCTCATTTTCTGTCTCTTGATG   ta   GAAGAGTCTTCCTTTACG\n",
      "14   GAGGAGGGCAGCAAACGG   aa   CTGAGGCTGAGAGGAAGGTTTGGAT     TTTTTACAAGTTTCTGTAATCTGTC   ta   GAAGAGTCTTCCTTTACG\n",
      "15   GAGGAGGGCAGCAAACGG   aa   GGGGGCTGGAAGTTCACTCATGCTG     TGGAGAGCATTTCCAGCGCAGTCGT   ta   GAAGAGTCTTCCTTTACG\n",
      "16   GAGGAGGGCAGCAAACGG   aa   CTCATGTATCTCAGTAGATACTCCG     GCTCTCACCAGCTTAGAAGGGCTTC   ta   GAAGAGTCTTCCTTTACG\n",
      "17   GAGGAGGGCAGCAAACGG   aa   GAGAGTGTTCACAGACGACGCCACA     ACTGCACAAGCACTATTCCCTCAAA   ta   GAAGAGTCTTCCTTTACG\n",
      "18   GAGGAGGGCAGCAAACGG   aa   GGGTTTGTCGTACCATCGGTTGCCC     TCCATCAGCACCTATTACAAACTGC   ta   GAAGAGTCTTCCTTTACG\n",
      "19   GAGGAGGGCAGCAAACGG   aa   ATTAGCAAAGCTCTGTTGCTGTCAT     TTTTTGTCCGTTCCTCCTCCATGAA   ta   GAAGAGTCTTCCTTTACG\n",
      "20   GAGGAGGGCAGCAAACGG   aa   ACACCAGACACAAACAGCGCTCAAT     GTTCAGTGGCAGTTTCCTCATCCAA   ta   GAAGAGTCTTCCTTTACG\n",
      "21   GAGGAGGGCAGCAAACGG   aa   TTTGATCAGTATGTTGCGAGCCTCG     GTCCAGAGAGTCCCTGTTGGTAGAA   ta   GAAGAGTCTTCCTTTACG\n",
      "22   GAGGAGGGCAGCAAACGG   aa   AGGCCGATTGGAGGCTGACGCTCCT     CACTGTGTTCTGCCATCTGATGTGA   ta   GAAGAGTCTTCCTTTACG\n",
      "23   GAGGAGGGCAGCAAACGG   aa   CCAGCTGAGTGTAAAGGTCTTTTTC     CGATGTCTGCCATCTTTCTGATTCG   ta   GAAGAGTCTTCCTTTACG\n",
      "24   GAGGAGGGCAGCAAACGG   aa   ATATGTTCGGGTTCAGGCATAACTG     AAAAACTGATTCTTACATGCCACTA   ta   GAAGAGTCTTCCTTTACG\n",
      "25   GAGGAGGGCAGCAAACGG   aa   TTGTTCCCGGCAGCCTGTAGGACGT     TCTTCTGAGCCACTAAAGTGTCTGT   ta   GAAGAGTCTTCCTTTACG\n",
      "26   GAGGAGGGCAGCAAACGG   aa   GGGCGTCCCGGCCAACTGCCCACGA     GACCTTGTTGTACTGATCCATACAC   ta   GAAGAGTCTTCCTTTACG\n",
      "27   GAGGAGGGCAGCAAACGG   aa   ATTAGAGCTTTATACTCTAATACAC     TGCTCTACAGGGAGAGCACGTCCAT   ta   GAAGAGTCTTCCTTTACG\n",
      "28   GAGGAGGGCAGCAAACGG   aa   CATCACTTTGACCCTTGAAGTTCTG     AAATGAGATTAGCAGCAAATCTGAG   ta   GAAGAGTCTTCCTTTACG\n",
      "29   GAGGAGGGCAGCAAACGG   aa   GACAGGTAGTGCTAACCTGTTGTTC     GTGAAAGACCATAACAGGACTGGAG   ta   GAAGAGTCTTCCTTTACG\n",
      "30   GAGGAGGGCAGCAAACGG   aa   ACCCAATTGGCCTTTTGTTCACTTC     TACATGTCTTCAAGCCAATAATCAT   ta   GAAGAGTCTTCCTTTACG\n",
      "31   GAGGAGGGCAGCAAACGG   aa   CCACTCCACCAGGTGCTCCAAATTT     CCAGTAACTTTTTCTGAAGGGTTTC   ta   GAAGAGTCTTCCTTTACG\n",
      "32   GAGGAGGGCAGCAAACGG   aa   GTCCTCTGGGACGAGGTGACCCATG     TACAACGGCCTTGGTCTTTCTGAAC   ta   GAAGAGTCTTCCTTTACG\n",
      "33   GAGGAGGGCAGCAAACGG   aa   CATGGATCTCCCGTGTCCTTTGATT     GGGGGAATGGGGAGCTTCGGGAGAG   ta   GAAGAGTCTTCCTTTACG\n",
      "\n",
      "\n",
      "\n",
      "\n",
      "Below are the hybridizing sequences and where they align to the cDNA:\n",
      "\n",
      "Pair#  cDNAcoord  Probe  cDNAcoord  cDNAcoord  Probe  cDNAcoord\n",
      "33   74   GGGGGAATGGGGAGCTTCGGGAGAG   49     47   CATGGATCTCCCGTGTCCTTTGATT   22\n",
      "32   159   TACAACGGCCTTGGTCTTTCTGAAC   134     132   GTCCTCTGGGACGAGGTGACCCATG   107\n",
      "31   214   CCAGTAACTTTTTCTGAAGGGTTTC   189     187   CCACTCCACCAGGTGCTCCAAATTT   162\n",
      "30   269   TACATGTCTTCAAGCCAATAATCAT   244     242   ACCCAATTGGCCTTTTGTTCACTTC   217\n",
      "29   324   GTGAAAGACCATAACAGGACTGGAG   299     297   GACAGGTAGTGCTAACCTGTTGTTC   272\n",
      "28   379   AAATGAGATTAGCAGCAAATCTGAG   354     352   CATCACTTTGACCCTTGAAGTTCTG   327\n",
      "27   434   TGCTCTACAGGGAGAGCACGTCCAT   409     407   ATTAGAGCTTTATACTCTAATACAC   382\n",
      "26   489   GACCTTGTTGTACTGATCCATACAC   464     462   GGGCGTCCCGGCCAACTGCCCACGA   437\n",
      "25   544   TCTTCTGAGCCACTAAAGTGTCTGT   519     517   TTGTTCCCGGCAGCCTGTAGGACGT   492\n",
      "24   599   AAAAACTGATTCTTACATGCCACTA   574     572   ATATGTTCGGGTTCAGGCATAACTG   547\n",
      "23   688   CGATGTCTGCCATCTTTCTGATTCG   663     661   CCAGCTGAGTGTAAAGGTCTTTTTC   636\n",
      "22   743   CACTGTGTTCTGCCATCTGATGTGA   718     716   AGGCCGATTGGAGGCTGACGCTCCT   691\n",
      "21   798   GTCCAGAGAGTCCCTGTTGGTAGAA   773     771   TTTGATCAGTATGTTGCGAGCCTCG   746\n",
      "20   853   GTTCAGTGGCAGTTTCCTCATCCAA   828     826   ACACCAGACACAAACAGCGCTCAAT   801\n",
      "19   908   TTTTTGTCCGTTCCTCCTCCATGAA   883     881   ATTAGCAAAGCTCTGTTGCTGTCAT   856\n",
      "18   963   TCCATCAGCACCTATTACAAACTGC   938     936   GGGTTTGTCGTACCATCGGTTGCCC   911\n",
      "17   1018   ACTGCACAAGCACTATTCCCTCAAA   993     991   GAGAGTGTTCACAGACGACGCCACA   966\n",
      "16   1073   GCTCTCACCAGCTTAGAAGGGCTTC   1048     1046   CTCATGTATCTCAGTAGATACTCCG   1021\n",
      "15   1128   TGGAGAGCATTTCCAGCGCAGTCGT   1103     1101   GGGGGCTGGAAGTTCACTCATGCTG   1076\n",
      "14   1183   TTTTTACAAGTTTCTGTAATCTGTC   1158     1156   CTGAGGCTGAGAGGAAGGTTTGGAT   1131\n",
      "13   1254   AGGGCTCATTTTCTGTCTCTTGATG   1229     1227   CTCTTTGCCATAACCAGTGAATTTG   1202\n",
      "12   1309   GACGTCCATGACATCTGTAAAATGT   1284     1282   ACTGGAGCGCAACTTGGACATAAGC   1257\n",
      "11   1364   TCGACTCGTCCCTCTTGAAAGCGGC   1339     1337   ATTGATGCACTTTCATAGGTGGGCA   1312\n",
      "10   1419   ACTGGCCATAGCTTTGACAAATGCT   1394     1392   GGCTTCAGGGGTGGAGGAGCGAATG   1367\n",
      "9   1474   CTTTTATGGCAGTCCAGAGCAACTC   1449     1447   TTTTCTCAGCATCAGTGATTTTGGA   1422\n",
      "8   1529   AAGTGATTGTCTATTGCCATTCCTG   1504     1502   ATTGCTAGAATTGTGTAATTAGTTT   1477\n",
      "7   1584   AAACAGCTCTGGCTTTTCCAGTTTC   1559     1557   CTCCTTGGCAATCTCTCGCAGCCCC   1532\n",
      "6   1639   GAACCTGGCTTGTAGAGAGAGTGAA   1614     1612   GGATGCTGGTTGCGTAGGTCGTATC   1587\n",
      "5   1694   CCGTAGCCATTTGGGACGACTGGAC   1669     1667   TAGCAGCAGAACATCTCCTCAGTGG   1642\n",
      "4   1749   ACGGAAGCTGGACACGCAGAAGAGG   1724     1722   GTGGTCCGTCTGAGGATTGTAGCAG   1697\n",
      "3   1804   TCAGGCACCCCTCAAGAGTCTTCAC   1779     1777   ACAAATCTGAGCTGGTCTCCGCACA   1752\n",
      "2   1859   GAGTCAGCTGGTTTAACTTCAGTGT   1834     1832   CATTTTCTGCACAGATCTTGCATTT   1807\n",
      "1   1914   TTATGACTTGCTTCCATTCTTCATT   1889     1887   CTTAGGGTTTCCCTCCATCCTTTGT   1862\n",
      "\n",
      "\n",
      "\n",
      "\n",
      "This is the in-place localization of the probe pairs along the full-length sense cDNA.\n",
      "\n",
      ">chata Sense Strand\n",
      "nnnnnnnnnnnnnnnnnnnnnnAATCAAAGGACACGGGAGATCCATGnnCTCTCCCGAAGCTCCCCATTCCCCCnnnnnnnnnnnnnnnnnnnnnnnnnnnnnnnnnCATGGGTCACCTCGTCCCAGAGGACnnGTTCAGAAAGACCAAGGCCGTTGTAnnnAAATTTGGAGCACCTGGTGGAGTGGnnGAAACCCTTCAGAAAAAGTTACTGGnnnGAAGTGAACAAAAGGCCAATTGGGTnnATGATTATTGGCTTGAAGACATGTAnnnGAACAACAGGTTAGCACTACCTGTCnnCTCCAGTCCTGTTATGGTCTTTCACnnnCAGAACTTCAAGGGTCAAAGTGATGnnCTCAGATTTGCTGCTAATCTCATTTnnnGTGTATTAGAGTATAAAGCTCTAATnnATGGACGTGCTCTCCCTGTAGAGCAnnnTCGTGGGCAGTTGGCCGGGACGCCCnnGTGTATGGATCAGTACAACAAGGTCnnnACGTCCTACAGGCTGCCGGGAACAAnnACAGACACTTTAGTGGCTCAGAAGAnnnCAGTTATGCCTGAACCCGAACATATnnTAGTGGCATGTAAGAATCAGTTTTTnnnnnnnnnnnnnnnnnnnnnnnnnnnnnnnnnnnnnGAAAAAGACCTTTACACTCAGCTGGnnCGAATCAGAAAGATGGCAGACATCGnnnAGGAGCGTCAGCCTCCAATCGGCCTnnTCACATCAGATGGCAGAACACAGTGnnnCGAGGCTCGCAACATACTGATCAAAnnTTCTACCAACAGGGACTCTCTGGACnnnATTGAGCGCTGTTTGTGTCTGGTGTnnTTGGATGAGGAAACTGCCACTGAACnnnATGACAGCAACAGAGCTTTGCTAATnnTTCATGGAGGAGGAACGGACAAAAAnnnGGGCAACCGATGGTACGACAAACCCnnGCAGTTTGTAATAGGTGCTGATGGAnnnTGTGGCGTCGTCTGTGAACACTCTCnnTTTGAGGGAATAGTGCTTGTGCAGTnnnCGGAGTATCTACTGAGATACATGAGnnGAAGCCCTTCTAAGCTGGTGAGAGCnnnCAGCATGAGTGAACTTCCAGCCCCCnnACGACTGCGCTGGAAATGCTCTCCAnnnATCCAAACCTTCCTCTCAGCCTCAGnnGACAGATTACAGAAACTTGTAAAAAnnnnnnnnnnnnnnnnnnnCAAATTCACTGGTTATGGCAAAGAGnnCATCAAGAGACAGAAAATGAGCCCTnnnGCTTATGTCCAAGTTGCGCTCCAGTnnACATTTTACAGATGTCATGGACGTCnnnTGCCCACCTATGAAAGTGCATCAATnnGCCGCTTTCAAGAGGGACGAGTCGAnnnCATTCGCTCCTCCACCCCTGAAGCCnnAGCATTTGTCAAAGCTATGGCCAGTnnnTCCAAAATCACTGATGCTGAGAAAAnnGAGTTGCTCTGGACTGCCATAAAAGnnnAAACTAATTACACAATTCTAGCAATnnCAGGAATGGCAATAGACAATCACTTnnnGGGGCTGCGAGAGATTGCCAAGGAGnnGAAACTGGAAAAGCCAGAGCTGTTTnnnGATACGACCTACGCAACCAGCATCCnnTTCACTCTCTCTACAAGCCAGGTTCnnnCCACTGAGGAGATGTTCTGCTGCTAnnGTCCAGTCGTCCCAAATGGCTACGGnnnCTGCTACAATCCTCAGACGGACCACnnCCTCTTCTGCGTGTCCAGCTTCCGTnnnTGTGCGGAGACCAGCTCAGATTTGTnnGTGAAGACTCTTGAGGGGTGCCTGAnnnAAATGCAAGATCTGTGCAGAAAATGnnACACTGAAGTTAAACCAGCTGACTCnnnACAAAGGATGGAGGGAAACCCTAAGnnAATGAAGAATGGAAGCAAGTCATAA\n",
      "\n",
      "\n",
      "\n",
      "\n",
      "Anti-sense sequence used to create probes:\n",
      "\n",
      ">chata Anti-Sense Strand\n",
      "TTATGACTTGCTTCCATTCTTCATTACCTTAGGGTTTCCCTCCATCCTTTGTGTGGAGTCAGCTGGTTTAACTTCAGTGTTGCATTTTCTGCACAGATCTTGCATTTCCTTCAGGCACCCCTCAAGAGTCTTCACAAACAAATCTGAGCTGGTCTCCGCACATTCACGGAAGCTGGACACGCAGAAGAGGATGTGGTCCGTCTGAGGATTGTAGCAGGCTCCGTAGCCATTTGGGACGACTGGACCATAGCAGCAGAACATCTCCTCAGTGGTAGGAACCTGGCTTGTAGAGAGAGTGAAGTGGATGCTGGTTGCGTAGGTCGTATCTGAAAACAGCTCTGGCTTTTCCAGTTTCAGCTCCTTGGCAATCTCTCGCAGCCCCAACAAGTGATTGTCTATTGCCATTCCTGTGATTGCTAGAATTGTGTAATTAGTTTGGGCTTTTATGGCAGTCCAGAGCAACTCCATTTTCTCAGCATCAGTGATTTTGGAGCCACTGGCCATAGCTTTGACAAATGCTAAGGCTTCAGGGGTGGAGGAGCGAATGTTGTCGACTCGTCCCTCTTGAAAGCGGCGTATTGATGCACTTTCATAGGTGGGCACTAGACGTCCATGACATCTGTAAAATGTAAACTGGAGCGCAACTTGGACATAAGCATCAGGGCTCATTTTCTGTCTCTTGATGAACTCTTTGCCATAACCAGTGAATTTGTGGACATTCATGTCCAGGTTTTTTACAAGTTTCTGTAATCTGTCTGCTGAGGCTGAGAGGAAGGTTTGGATGTCTGGAGAGCATTTCCAGCGCAGTCGTCTGGGGGCTGGAAGTTCACTCATGCTGGCTGCTCTCACCAGCTTAGAAGGGCTTCCTCTCATGTATCTCAGTAGATACTCCGAACACTGCACAAGCACTATTCCCTCAAAAGGAGAGTGTTCACAGACGACGCCACAGCATCCATCAGCACCTATTACAAACTGCATGGGTTTGTCGTACCATCGGTTGCCCCCGTTTTTGTCCGTTCCTCCTCCATGAAGCATTAGCAAAGCTCTGTTGCTGTCATTCAGTTCAGTGGCAGTTTCCTCATCCAAACACACCAGACACAAACAGCGCTCAATCATGTCCAGAGAGTCCCTGTTGGTAGAATCTTTGATCAGTATGTTGCGAGCCTCGGCCCACTGTGTTCTGCCATCTGATGTGAGCAGGCCGATTGGAGGCTGACGCTCCTCTTCGATGTCTGCCATCTTTCTGATTCGCTCCAGCTGAGTGTAAAGGTCTTTTTCATTCAGCCGGCGAAAGTTTACCATCACGTCTAGAACAAAAAACTGATTCTTACATGCCACTATTATATGTTCGGGTTCAGGCATAACTGTGCTCTTCTGAGCCACTAAAGTGTCTGTCTTTGTTCCCGGCAGCCTGTAGGACGTGAAGACCTTGTTGTACTGATCCATACACAGGGGCGTCCCGGCCAACTGCCCACGAGCATGCTCTACAGGGAGAGCACGTCCATCAATTAGAGCTTTATACTCTAATACACCAGAAATGAGATTAGCAGCAAATCTGAGGACATCACTTTGACCCTTGAAGTTCTGCTTGTGAAAGACCATAACAGGACTGGAGTTGACAGGTAGTGCTAACCTGTTGTTCAAATACATGTCTTCAAGCCAATAATCATACACCCAATTGGCCTTTTGTTCACTTCTCTCCAGTAACTTTTTCTGAAGGGTTTCCCCCACTCCACCAGGTGCTCCAAATTTCTCTACAACGGCCTTGGTCTTTCTGAACTGGTCCTCTGGGACGAGGTGACCCATGCATGTCAGGTACATGTCCAGTGTTTGCTTCAAGGGGGGAATGGGGAGCTTCGGGAGAGCACATGGATCTCCCGTGTCCTTTGATTGTTCCCTTTTTGAAACTGGCAT\n",
      "\n",
      "\n",
      "Run 2024-03-28\n",
      "   with settings: \n",
      "\t5'Pause:\t12 \n",
      "\tChoice of probe set:\tn\tPair used: Default \n",
      "\tLength of acceptable polyA/polyT runs:\t5 \n",
      "\tLength of acceptable polyC/polyG runs:\t5 \n",
      "\tBLASTn of Probes:\tn \n",
      "\tRemoval of probes with low quality BLAST hits:\tn\n",
      "\n",
      "\n",
      "References: \n",
      "\n",
      " See Choi et al. 2018 Development for HCR3.0 methodology details \n",
      " https://www.ncbi.nlm.nih.gov/pmc/articles/PMC6031405/ \n",
      "\n",
      " See Wang et al. 2020 BioRxiv for expanded amplifier information \n",
      " https://www.biorxiv.org/content/10.1101/274456v3 \n"
     ]
    }
   ],
   "source": [
    "from start import start\n",
    "from maker37cb import maker\n",
    "\n",
    "strt = start()\n",
    "name,fullseq,amplifier,pause,choose,polyAT,polyCG,BlastProbes,db,dropout,show,report,maxprobe,numbr = strt[0],strt[1],strt[2],strt[3],strt[4],strt[5],strt[6],strt[7],strt[8],strt[9],strt[10],strt[11],strt[12],strt[13]\n",
    "maker(name,fullseq,amplifier,pause,choose,polyAT,polyCG,BlastProbes,db,dropout,show,report,maxprobe,numbr)\n"
   ]
  },
  {
   "cell_type": "markdown",
   "metadata": {},
   "source": [
    "\n",
    "\n",
    "## Running the cells below allow you to modify parts of your input\n",
    "\n"
   ]
  },
  {
   "cell_type": "markdown",
   "metadata": {},
   "source": [
    "   \n",
    "   ### Change the gene name used for outputs\n",
    "   "
   ]
  },
  {
   "cell_type": "code",
   "execution_count": null,
   "metadata": {},
   "outputs": [],
   "source": [
    "\n",
    "name = str(input(\"What is the gene name? (ex. eGFP) \"))\n"
   ]
  },
  {
   "cell_type": "markdown",
   "metadata": {},
   "source": [
    "   \n",
    "   ### Change the cDNA sequence\n",
    "   "
   ]
  },
  {
   "cell_type": "code",
   "execution_count": null,
   "metadata": {},
   "outputs": [],
   "source": [
    "\n",
    "fullseq = str(input(\"Enter the sense sequence of your cDNA without spaces or returns. \"))\n"
   ]
  },
  {
   "cell_type": "markdown",
   "metadata": {},
   "source": [
    "   \n",
    "   ### Change the hairpin you will use to amplify with. \n",
    "   ##### B1-B5 were used by Choi et al. 2014 and B7 to B17 were reported by Wang et al. BioRxiv 2020\n",
    "                                                    "
   ]
  },
  {
   "cell_type": "code",
   "execution_count": null,
   "metadata": {},
   "outputs": [],
   "source": [
    "\n",
    "amplifier = str(input(\"What is the amplifier to be used with this probe set? B1,B2,B3,B4,B5,B7,B9,B10,B11,B13,B14,B15,or B17  \").upper())\n"
   ]
  },
  {
   "cell_type": "markdown",
   "metadata": {},
   "source": [
    "  \n",
    "  \n",
    "   ### Adjust the number of bases skipped at the 5' end of the cDNA before starting to make probes\n",
    "  "
   ]
  },
  {
   "cell_type": "code",
   "execution_count": null,
   "metadata": {},
   "outputs": [],
   "source": [
    "\n",
    "pause = int(input(\"How many bases from 5' end of the Sense RNA before starting to hybridize? ex. 100 \"))\n"
   ]
  },
  {
   "cell_type": "markdown",
   "metadata": {},
   "source": [
    "\n",
    "   ### Change the tolerated homopolymer lengths of (poly-A & poly-T) and/or (poly-C & polyG)\n",
    "   "
   ]
  },
  {
   "cell_type": "code",
   "execution_count": null,
   "metadata": {},
   "outputs": [],
   "source": [
    "\n",
    "polyAT = int(input(\"What is the max acceptable length for polyA or polyT homopolymers? \"))\n",
    "polyCG = int(input(\"What is the max acceptable length for polyC or polyG homopolymers? \"))\n"
   ]
  },
  {
   "cell_type": "markdown",
   "metadata": {},
   "source": [
    "   \n",
    "   ###  If multiple probe pair sets are available, toggle the option to choose which set of probes gets made\n",
    "   "
   ]
  },
  {
   "cell_type": "code",
   "execution_count": null,
   "metadata": {},
   "outputs": [],
   "source": [
    "\n",
    "choose1 = str(input(\"Do you want to be able to select between potential longest probe sets? (Choosing 'N' defaults to the first longest set of probes.) Y or N    \"))\n"
   ]
  },
  {
   "cell_type": "markdown",
   "metadata": {},
   "source": [
    "   \n",
    "   ### Toggle on/off whether a BLASTn search is performed on the potential probes or the original input cDNA\n",
    "   "
   ]
  },
  {
   "cell_type": "code",
   "execution_count": null,
   "metadata": {},
   "outputs": [],
   "source": [
    "\n",
    "BlastProbes = str(input(\"Would you like BLAST potential probes against a FASTA file?  Y or N    \"))\n"
   ]
  },
  {
   "cell_type": "markdown",
   "metadata": {},
   "source": [
    "   \n",
    "   ### Specify the directory path of the FASTA file to be used as the BLASTn subject\n",
    "   "
   ]
  },
  {
   "cell_type": "code",
   "execution_count": null,
   "metadata": {},
   "outputs": [],
   "source": [
    "\n",
    "db = str(input(\"Where is the FASTA file you would like to BLAST against? Example: 'C:/users/user/***.fasta' Ignore if not BLASTing \" ))\n"
   ]
  },
  {
   "cell_type": "markdown",
   "metadata": {},
   "source": [
    "   ### Use BLASTn results to remove potential off-target probes"
   ]
  },
  {
   "cell_type": "code",
   "execution_count": null,
   "metadata": {},
   "outputs": [],
   "source": [
    "dropout = str(input(\"Do you want to eliminate probes that appear in low quaility BLAST outputs? Y or N   \"))"
   ]
  },
  {
   "cell_type": "markdown",
   "metadata": {},
   "source": [
    "   ### Toggle the presentation of detailed BLASTn results on/off"
   ]
  },
  {
   "cell_type": "code",
   "execution_count": null,
   "metadata": {},
   "outputs": [],
   "source": [
    "show = str(input(\"Do you want to display detailed BLAST outputs? Y or N  \"))"
   ]
  },
  {
   "cell_type": "markdown",
   "metadata": {},
   "source": [
    "### Toggle printing of parameters used at the end of the report"
   ]
  },
  {
   "cell_type": "code",
   "execution_count": null,
   "metadata": {},
   "outputs": [],
   "source": [
    "report = str(input(\"Do you want to display chosen parameters in output? Y or N   \"))"
   ]
  },
  {
   "cell_type": "markdown",
   "metadata": {},
   "source": [
    "### Toggle the max/arbitrary number of output sequences\n",
    "##### The biggest number of probes OPools will allow is 33 probe pairs at 50pmol for 99 dollars, less still costs 99, more increases the cost by each additional base.\n",
    "##### This option will let you set the limit of the number of probes; if left off will return the max number of probes."
   ]
  },
  {
   "cell_type": "code",
   "execution_count": null,
   "metadata": {},
   "outputs": [],
   "source": [
    "maxprobe = str(input(\"Do you want to limit the number of probes made?  Y or N    \"))"
   ]
  },
  {
   "cell_type": "markdown",
   "metadata": {},
   "source": [
    "### Set the maximum number of probes output.\n",
    "##### If you want the most, leave \"maxprobe\" off. \n",
    "##### If you want the optimal cost/probe ratio, enter 0 or 33"
   ]
  },
  {
   "cell_type": "code",
   "execution_count": null,
   "metadata": {},
   "outputs": [],
   "source": [
    "\n",
    "numbr = int(input(\"Enter a particular number of probes made. The default max is 33.  Enter integer or enter 0 for default.  \"))"
   ]
  },
  {
   "cell_type": "markdown",
   "metadata": {},
   "source": [
    "\n",
    "## Use the cell below to rerun the probe maker\n"
   ]
  },
  {
   "cell_type": "markdown",
   "metadata": {},
   "source": [
    " "
   ]
  },
  {
   "cell_type": "code",
   "execution_count": null,
   "metadata": {},
   "outputs": [],
   "source": [
    "maker(name,fullseq,amplifier,pause,choose,polyAT,polyCG,BlastProbes,db,dropout,show,report,maxprobe,numbr)"
   ]
  },
  {
   "cell_type": "markdown",
   "metadata": {},
   "source": [
    "### Jupyter Notebook help can be found here:\n",
    "https://jupyter-notebook.readthedocs.io/en/stable/"
   ]
  },
  {
   "cell_type": "markdown",
   "metadata": {},
   "source": [
    "## Before running this notebook you will need to have a few additional programs installed on your machine.\n",
    "\n",
    "   ### These Python libraries\n",
    "   ##### Biopython v1.77+\n",
    "   https://anaconda.org/anaconda/biopython\n",
    "   ##### Numpy v1.19.1+\n",
    "   https://anaconda.org/anaconda/numpy\n",
    "   ##### Pandas v1.1.1+\n",
    "   https://anaconda.org/anaconda/pandas\n",
    "   ### BLAST+\n",
    "   ##### Download\n",
    "   https://blast.ncbi.nlm.nih.gov/Blast.cgi?PAGE_TYPE=BlastDocs&DOC_TYPE=Download\n",
    "   ##### Installation help, PC\n",
    "   https://www.ncbi.nlm.nih.gov/books/NBK52637/\n",
    "   ##### Installation help, Mac/Unix\n",
    "   https://www.ncbi.nlm.nih.gov/books/NBK52640/\n",
    "    \n",
    "    "
   ]
  }
 ],
 "metadata": {
  "kernelspec": {
   "display_name": "Python 3",
   "language": "python",
   "name": "python3"
  },
  "language_info": {
   "codemirror_mode": {
    "name": "ipython",
    "version": 3
   },
   "file_extension": ".py",
   "mimetype": "text/x-python",
   "name": "python",
   "nbconvert_exporter": "python",
   "pygments_lexer": "ipython3",
   "version": "3.9.19"
  }
 },
 "nbformat": 4,
 "nbformat_minor": 4
}
